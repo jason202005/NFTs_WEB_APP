{
 "cells": [
  {
   "cell_type": "code",
   "execution_count": 14,
   "metadata": {},
   "outputs": [
    {
     "ename": "ValueError",
     "evalue": "could not convert string to float: ' 2022\"'",
     "output_type": "error",
     "traceback": [
      "\u001b[0;31m---------------------------------------------------------------------------\u001b[0m",
      "\u001b[0;31mValueError\u001b[0m                                Traceback (most recent call last)",
      "\u001b[1;32m/Users/School/Documents/MDASC/stat7008/Group Project/NFTs_WEB_APP/tmp_workplace/price_prediction.ipynb Cell 1'\u001b[0m in \u001b[0;36m<cell line: 7>\u001b[0;34m()\u001b[0m\n\u001b[1;32m      <a href='vscode-notebook-cell:/Users/School/Documents/MDASC/stat7008/Group%20Project/NFTs_WEB_APP/tmp_workplace/price_prediction.ipynb#ch0000000?line=2'>3</a>\u001b[0m \u001b[39mfrom\u001b[39;00m \u001b[39msklearn\u001b[39;00m\u001b[39m.\u001b[39;00m\u001b[39mpreprocessing\u001b[39;00m \u001b[39mimport\u001b[39;00m scale\n\u001b[1;32m      <a href='vscode-notebook-cell:/Users/School/Documents/MDASC/stat7008/Group%20Project/NFTs_WEB_APP/tmp_workplace/price_prediction.ipynb#ch0000000?line=3'>4</a>\u001b[0m \u001b[39m# !pip install ANNR\u001b[39;00m\n\u001b[1;32m      <a href='vscode-notebook-cell:/Users/School/Documents/MDASC/stat7008/Group%20Project/NFTs_WEB_APP/tmp_workplace/price_prediction.ipynb#ch0000000?line=4'>5</a>\u001b[0m \u001b[39m# from TFANN import ANNR\u001b[39;00m\n\u001b[1;32m      <a href='vscode-notebook-cell:/Users/School/Documents/MDASC/stat7008/Group%20Project/NFTs_WEB_APP/tmp_workplace/price_prediction.ipynb#ch0000000?line=5'>6</a>\u001b[0m \u001b[39m#reads data from the file and ceates a matrix with only the dates and the prices \u001b[39;00m\n\u001b[0;32m----> <a href='vscode-notebook-cell:/Users/School/Documents/MDASC/stat7008/Group%20Project/NFTs_WEB_APP/tmp_workplace/price_prediction.ipynb#ch0000000?line=6'>7</a>\u001b[0m stock_data \u001b[39m=\u001b[39m np\u001b[39m.\u001b[39;49mloadtxt(\u001b[39m'\u001b[39;49m\u001b[39mhttps://media.githubusercontent.com/media/jason202005/NFTs_WEB_APP/main/data/token_price/eth.csv\u001b[39;49m\u001b[39m'\u001b[39;49m, delimiter\u001b[39m=\u001b[39;49m\u001b[39m\"\u001b[39;49m\u001b[39m,\u001b[39;49m\u001b[39m\"\u001b[39;49m, skiprows\u001b[39m=\u001b[39;49m\u001b[39m1\u001b[39;49m, usecols\u001b[39m=\u001b[39;49m(\u001b[39m1\u001b[39;49m, \u001b[39m4\u001b[39;49m))\n\u001b[1;32m      <a href='vscode-notebook-cell:/Users/School/Documents/MDASC/stat7008/Group%20Project/NFTs_WEB_APP/tmp_workplace/price_prediction.ipynb#ch0000000?line=7'>8</a>\u001b[0m \u001b[39m#scales the data to smaller values\u001b[39;00m\n\u001b[1;32m      <a href='vscode-notebook-cell:/Users/School/Documents/MDASC/stat7008/Group%20Project/NFTs_WEB_APP/tmp_workplace/price_prediction.ipynb#ch0000000?line=8'>9</a>\u001b[0m \u001b[39m# stock_data=scale(stock_data)\u001b[39;00m\n\u001b[1;32m     <a href='vscode-notebook-cell:/Users/School/Documents/MDASC/stat7008/Group%20Project/NFTs_WEB_APP/tmp_workplace/price_prediction.ipynb#ch0000000?line=9'>10</a>\u001b[0m \u001b[39mprint\u001b[39m(stock_data)\n",
      "File \u001b[0;32m/usr/local/lib/python3.9/site-packages/numpy/lib/npyio.py:1146\u001b[0m, in \u001b[0;36mloadtxt\u001b[0;34m(fname, dtype, comments, delimiter, converters, skiprows, usecols, unpack, ndmin, encoding, max_rows, like)\u001b[0m\n\u001b[1;32m   <a href='file:///usr/local/lib/python3.9/site-packages/numpy/lib/npyio.py?line=1140'>1141</a>\u001b[0m \u001b[39m# read data in chunks and fill it into an array via resize\u001b[39;00m\n\u001b[1;32m   <a href='file:///usr/local/lib/python3.9/site-packages/numpy/lib/npyio.py?line=1141'>1142</a>\u001b[0m \u001b[39m# over-allocating and shrinking the array later may be faster but is\u001b[39;00m\n\u001b[1;32m   <a href='file:///usr/local/lib/python3.9/site-packages/numpy/lib/npyio.py?line=1142'>1143</a>\u001b[0m \u001b[39m# probably not relevant compared to the cost of actually reading and\u001b[39;00m\n\u001b[1;32m   <a href='file:///usr/local/lib/python3.9/site-packages/numpy/lib/npyio.py?line=1143'>1144</a>\u001b[0m \u001b[39m# converting the data\u001b[39;00m\n\u001b[1;32m   <a href='file:///usr/local/lib/python3.9/site-packages/numpy/lib/npyio.py?line=1144'>1145</a>\u001b[0m X \u001b[39m=\u001b[39m \u001b[39mNone\u001b[39;00m\n\u001b[0;32m-> <a href='file:///usr/local/lib/python3.9/site-packages/numpy/lib/npyio.py?line=1145'>1146</a>\u001b[0m \u001b[39mfor\u001b[39;00m x \u001b[39min\u001b[39;00m read_data(_loadtxt_chunksize):\n\u001b[1;32m   <a href='file:///usr/local/lib/python3.9/site-packages/numpy/lib/npyio.py?line=1146'>1147</a>\u001b[0m     \u001b[39mif\u001b[39;00m X \u001b[39mis\u001b[39;00m \u001b[39mNone\u001b[39;00m:\n\u001b[1;32m   <a href='file:///usr/local/lib/python3.9/site-packages/numpy/lib/npyio.py?line=1147'>1148</a>\u001b[0m         X \u001b[39m=\u001b[39m np\u001b[39m.\u001b[39marray(x, dtype)\n",
      "File \u001b[0;32m/usr/local/lib/python3.9/site-packages/numpy/lib/npyio.py:997\u001b[0m, in \u001b[0;36mloadtxt.<locals>.read_data\u001b[0;34m(chunk_size)\u001b[0m\n\u001b[1;32m    <a href='file:///usr/local/lib/python3.9/site-packages/numpy/lib/npyio.py?line=992'>993</a>\u001b[0m     \u001b[39mraise\u001b[39;00m \u001b[39mValueError\u001b[39;00m(\u001b[39m\"\u001b[39m\u001b[39mWrong number of columns at line \u001b[39m\u001b[39m%d\u001b[39;00m\u001b[39m\"\u001b[39m\n\u001b[1;32m    <a href='file:///usr/local/lib/python3.9/site-packages/numpy/lib/npyio.py?line=993'>994</a>\u001b[0m                      \u001b[39m%\u001b[39m line_num)\n\u001b[1;32m    <a href='file:///usr/local/lib/python3.9/site-packages/numpy/lib/npyio.py?line=995'>996</a>\u001b[0m \u001b[39m# Convert each value according to its column and store\u001b[39;00m\n\u001b[0;32m--> <a href='file:///usr/local/lib/python3.9/site-packages/numpy/lib/npyio.py?line=996'>997</a>\u001b[0m items \u001b[39m=\u001b[39m [conv(val) \u001b[39mfor\u001b[39;00m (conv, val) \u001b[39min\u001b[39;00m \u001b[39mzip\u001b[39m(converters, vals)]\n\u001b[1;32m    <a href='file:///usr/local/lib/python3.9/site-packages/numpy/lib/npyio.py?line=998'>999</a>\u001b[0m \u001b[39m# Then pack it according to the dtype's nesting\u001b[39;00m\n\u001b[1;32m   <a href='file:///usr/local/lib/python3.9/site-packages/numpy/lib/npyio.py?line=999'>1000</a>\u001b[0m items \u001b[39m=\u001b[39m pack_items(items, packing)\n",
      "File \u001b[0;32m/usr/local/lib/python3.9/site-packages/numpy/lib/npyio.py:997\u001b[0m, in \u001b[0;36m<listcomp>\u001b[0;34m(.0)\u001b[0m\n\u001b[1;32m    <a href='file:///usr/local/lib/python3.9/site-packages/numpy/lib/npyio.py?line=992'>993</a>\u001b[0m     \u001b[39mraise\u001b[39;00m \u001b[39mValueError\u001b[39;00m(\u001b[39m\"\u001b[39m\u001b[39mWrong number of columns at line \u001b[39m\u001b[39m%d\u001b[39;00m\u001b[39m\"\u001b[39m\n\u001b[1;32m    <a href='file:///usr/local/lib/python3.9/site-packages/numpy/lib/npyio.py?line=993'>994</a>\u001b[0m                      \u001b[39m%\u001b[39m line_num)\n\u001b[1;32m    <a href='file:///usr/local/lib/python3.9/site-packages/numpy/lib/npyio.py?line=995'>996</a>\u001b[0m \u001b[39m# Convert each value according to its column and store\u001b[39;00m\n\u001b[0;32m--> <a href='file:///usr/local/lib/python3.9/site-packages/numpy/lib/npyio.py?line=996'>997</a>\u001b[0m items \u001b[39m=\u001b[39m [conv(val) \u001b[39mfor\u001b[39;00m (conv, val) \u001b[39min\u001b[39;00m \u001b[39mzip\u001b[39m(converters, vals)]\n\u001b[1;32m    <a href='file:///usr/local/lib/python3.9/site-packages/numpy/lib/npyio.py?line=998'>999</a>\u001b[0m \u001b[39m# Then pack it according to the dtype's nesting\u001b[39;00m\n\u001b[1;32m   <a href='file:///usr/local/lib/python3.9/site-packages/numpy/lib/npyio.py?line=999'>1000</a>\u001b[0m items \u001b[39m=\u001b[39m pack_items(items, packing)\n",
      "File \u001b[0;32m/usr/local/lib/python3.9/site-packages/numpy/lib/npyio.py:734\u001b[0m, in \u001b[0;36m_getconv.<locals>.floatconv\u001b[0;34m(x)\u001b[0m\n\u001b[1;32m    <a href='file:///usr/local/lib/python3.9/site-packages/numpy/lib/npyio.py?line=731'>732</a>\u001b[0m \u001b[39mif\u001b[39;00m \u001b[39m'\u001b[39m\u001b[39m0x\u001b[39m\u001b[39m'\u001b[39m \u001b[39min\u001b[39;00m x:\n\u001b[1;32m    <a href='file:///usr/local/lib/python3.9/site-packages/numpy/lib/npyio.py?line=732'>733</a>\u001b[0m     \u001b[39mreturn\u001b[39;00m \u001b[39mfloat\u001b[39m\u001b[39m.\u001b[39mfromhex(x)\n\u001b[0;32m--> <a href='file:///usr/local/lib/python3.9/site-packages/numpy/lib/npyio.py?line=733'>734</a>\u001b[0m \u001b[39mreturn\u001b[39;00m \u001b[39mfloat\u001b[39;49m(x)\n",
      "\u001b[0;31mValueError\u001b[0m: could not convert string to float: ' 2022\"'"
     ]
    }
   ],
   "source": [
    "import numpy as np\n",
    "import matplotlib.pyplot as mpl\n",
    "from sklearn.preprocessing import scale\n",
    "# !pip install ANNR\n",
    "# from TFANN import ANNR\n",
    "#reads data from the file and ceates a matrix with only the dates and the prices \n",
    "stock_data = np.loadtxt('https://media.githubusercontent.com/media/jason202005/NFTs_WEB_APP/main/data/token_price/eth.csv', delimiter=\",\", skiprows=1, usecols=(1, 4))\n",
    "#scales the data to smaller values\n",
    "stock_data=scale(stock_data)\n",
    "#gets the price and dates from the matrix\n",
    "prices = stock_data[:, 1].reshape(-1, 1)\n",
    "dates = stock_data[:, 0].reshape(-1, 1)\n",
    "#creates a plot of the data and then displays it\n",
    "mpl.plot(dates[:, 0], prices[:, 0])\n",
    "mpl.show()"
   ]
  }
 ],
 "metadata": {
  "interpreter": {
   "hash": "aee8b7b246df8f9039afb4144a1f6fd8d2ca17a180786b69acc140d282b71a49"
  },
  "kernelspec": {
   "display_name": "Python 3.9.12 64-bit",
   "language": "python",
   "name": "python3"
  },
  "language_info": {
   "codemirror_mode": {
    "name": "ipython",
    "version": 3
   },
   "file_extension": ".py",
   "mimetype": "text/x-python",
   "name": "python",
   "nbconvert_exporter": "python",
   "pygments_lexer": "ipython3",
   "version": "3.9.12"
  },
  "orig_nbformat": 4
 },
 "nbformat": 4,
 "nbformat_minor": 2
}
