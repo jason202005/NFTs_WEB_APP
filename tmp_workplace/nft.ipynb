{
 "cells": [
  {
   "cell_type": "code",
   "execution_count": null,
   "metadata": {},
   "outputs": [],
   "source": [
    "# In[3]:\n",
    "\n",
    "\n",
    "import pandas as pd\n",
    "import numpy as np\n",
    "import matplotlib.pyplot as plt\n",
    "\n",
    "# read csv file and store in dataframe\n",
    "data1 = pd.read_csv('Decentraland_NFT_OpenSea_11_2021.csv')\n",
    "data2 = pd.read_csv('NFT_OpenSea_11_2021.csv')\n"
   ]
  }
 ],
 "metadata": {
  "language_info": {
   "name": "python"
  },
  "orig_nbformat": 4
 },
 "nbformat": 4,
 "nbformat_minor": 2
}
