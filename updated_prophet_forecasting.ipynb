{
  "cells": [
    {
      "cell_type": "code",
      "execution_count": 1,
      "metadata": {
        "colab": {
          "base_uri": "https://localhost:8080/"
        },
        "id": "qa7Zb4FOsuCr",
        "outputId": "7b2f634e-2309-470a-e09f-604487e4ceb5"
      },
      "outputs": [],
      "source": [
        "!pip install pystan==2.19.1.1 --quiet\n",
        "!pip install fbprophet --quiet\n",
        "!pip install yfinance --quiet"
      ]
    },
    {
      "cell_type": "code",
      "execution_count": 2,
      "metadata": {
        "id": "lQFsG-Nvs2-L"
      },
      "outputs": [],
      "source": [
        "import pandas as pd\n",
        "import yfinance as yf\n",
        "from datetime import datetime\n",
        "from datetime import timedelta\n",
        "import plotly.graph_objects as go\n",
        "from fbprophet import Prophet\n",
        "from fbprophet.plot import plot_plotly, plot_components_plotly\n",
        "import warnings\n",
        "\n",
        "warnings.filterwarnings('ignore')\n",
        "\n",
        "pd.options.display.float_format = '${:,.2f}'.format"
      ]
    },
    {
      "cell_type": "code",
      "execution_count": 3,
      "metadata": {
        "colab": {
          "base_uri": "https://localhost:8080/",
          "height": 424
        },
        "id": "AScIXyIiiQID",
        "outputId": "d09f5c57-9f41-4149-9a9e-7a14938b5050"
      },
      "outputs": [
        {
          "data": {
            "text/html": [
              "<div>\n",
              "<style scoped>\n",
              "    .dataframe tbody tr th:only-of-type {\n",
              "        vertical-align: middle;\n",
              "    }\n",
              "\n",
              "    .dataframe tbody tr th {\n",
              "        vertical-align: top;\n",
              "    }\n",
              "\n",
              "    .dataframe thead th {\n",
              "        text-align: right;\n",
              "    }\n",
              "</style>\n",
              "<table border=\"1\" class=\"dataframe\">\n",
              "  <thead>\n",
              "    <tr style=\"text-align: right;\">\n",
              "      <th></th>\n",
              "      <th>Date</th>\n",
              "      <th>Decentraland</th>\n",
              "      <th>Sandbox</th>\n",
              "      <th>Close</th>\n",
              "    </tr>\n",
              "  </thead>\n",
              "  <tbody>\n",
              "    <tr>\n",
              "      <th>119</th>\n",
              "      <td>2022-03-05</td>\n",
              "      <td>$12,626.46</td>\n",
              "      <td>$8,922.20</td>\n",
              "      <td>$8,799.84</td>\n",
              "    </tr>\n",
              "    <tr>\n",
              "      <th>120</th>\n",
              "      <td>2022-03-06</td>\n",
              "      <td>$14,592.72</td>\n",
              "      <td>$8,504.98</td>\n",
              "      <td>$8,922.20</td>\n",
              "    </tr>\n",
              "    <tr>\n",
              "      <th>121</th>\n",
              "      <td>2022-03-07</td>\n",
              "      <td>$11,831.43</td>\n",
              "      <td>$7,737.87</td>\n",
              "      <td>$8,504.98</td>\n",
              "    </tr>\n",
              "    <tr>\n",
              "      <th>122</th>\n",
              "      <td>2022-03-08</td>\n",
              "      <td>$12,332.03</td>\n",
              "      <td>$8,538.25</td>\n",
              "      <td>$7,737.87</td>\n",
              "    </tr>\n",
              "    <tr>\n",
              "      <th>123</th>\n",
              "      <td>2022-03-09</td>\n",
              "      <td>$12,296.66</td>\n",
              "      <td>$8,524.53</td>\n",
              "      <td>$8,538.25</td>\n",
              "    </tr>\n",
              "    <tr>\n",
              "      <th>124</th>\n",
              "      <td>2022-03-10</td>\n",
              "      <td>$11,905.19</td>\n",
              "      <td>$8,468.20</td>\n",
              "      <td>$8,524.53</td>\n",
              "    </tr>\n",
              "    <tr>\n",
              "      <th>125</th>\n",
              "      <td>2022-03-11</td>\n",
              "      <td>$11,016.24</td>\n",
              "      <td>$7,814.54</td>\n",
              "      <td>$8,468.20</td>\n",
              "    </tr>\n",
              "    <tr>\n",
              "      <th>126</th>\n",
              "      <td>2022-03-12</td>\n",
              "      <td>$12,572.84</td>\n",
              "      <td>$8,225.58</td>\n",
              "      <td>$7,814.54</td>\n",
              "    </tr>\n",
              "    <tr>\n",
              "      <th>127</th>\n",
              "      <td>2022-03-13</td>\n",
              "      <td>$9,139.64</td>\n",
              "      <td>$8,359.37</td>\n",
              "      <td>$8,225.58</td>\n",
              "    </tr>\n",
              "    <tr>\n",
              "      <th>128</th>\n",
              "      <td>2022-03-14</td>\n",
              "      <td>$13,047.89</td>\n",
              "      <td>$8,385.90</td>\n",
              "      <td>$8,359.37</td>\n",
              "    </tr>\n",
              "    <tr>\n",
              "      <th>129</th>\n",
              "      <td>2022-03-15</td>\n",
              "      <td>$9,760.47</td>\n",
              "      <td>$7,836.69</td>\n",
              "      <td>$8,385.90</td>\n",
              "    </tr>\n",
              "    <tr>\n",
              "      <th>130</th>\n",
              "      <td>2022-03-16</td>\n",
              "      <td>$13,781.26</td>\n",
              "      <td>$9,078.20</td>\n",
              "      <td>$7,836.69</td>\n",
              "    </tr>\n",
              "    <tr>\n",
              "      <th>131</th>\n",
              "      <td>2022-03-17</td>\n",
              "      <td>$10,662.74</td>\n",
              "      <td>$8,755.92</td>\n",
              "      <td>$9,078.20</td>\n",
              "    </tr>\n",
              "    <tr>\n",
              "      <th>132</th>\n",
              "      <td>2022-03-18</td>\n",
              "      <td>$10,957.16</td>\n",
              "      <td>$9,794.10</td>\n",
              "      <td>$8,755.92</td>\n",
              "    </tr>\n",
              "    <tr>\n",
              "      <th>133</th>\n",
              "      <td>2022-03-19</td>\n",
              "      <td>$11,136.47</td>\n",
              "      <td>$9,303.00</td>\n",
              "      <td>$9,794.10</td>\n",
              "    </tr>\n",
              "    <tr>\n",
              "      <th>134</th>\n",
              "      <td>2022-03-20</td>\n",
              "      <td>$15,592.55</td>\n",
              "      <td>$9,037.73</td>\n",
              "      <td>$9,303.00</td>\n",
              "    </tr>\n",
              "    <tr>\n",
              "      <th>135</th>\n",
              "      <td>2022-03-21</td>\n",
              "      <td>$10,763.89</td>\n",
              "      <td>$8,306.26</td>\n",
              "      <td>$9,037.73</td>\n",
              "    </tr>\n",
              "    <tr>\n",
              "      <th>136</th>\n",
              "      <td>2022-03-22</td>\n",
              "      <td>$11,688.97</td>\n",
              "      <td>$9,097.45</td>\n",
              "      <td>$8,306.26</td>\n",
              "    </tr>\n",
              "    <tr>\n",
              "      <th>137</th>\n",
              "      <td>2022-03-23</td>\n",
              "      <td>$11,152.25</td>\n",
              "      <td>$9,503.87</td>\n",
              "      <td>$9,097.45</td>\n",
              "    </tr>\n",
              "    <tr>\n",
              "      <th>138</th>\n",
              "      <td>2022-03-24</td>\n",
              "      <td>$10,484.32</td>\n",
              "      <td>$9,114.39</td>\n",
              "      <td>$9,503.87</td>\n",
              "    </tr>\n",
              "    <tr>\n",
              "      <th>139</th>\n",
              "      <td>2022-03-25</td>\n",
              "      <td>$10,822.68</td>\n",
              "      <td>$10,172.34</td>\n",
              "      <td>$9,114.39</td>\n",
              "    </tr>\n",
              "    <tr>\n",
              "      <th>140</th>\n",
              "      <td>2022-03-26</td>\n",
              "      <td>$9,961.55</td>\n",
              "      <td>$8,920.20</td>\n",
              "      <td>$10,172.34</td>\n",
              "    </tr>\n",
              "    <tr>\n",
              "      <th>141</th>\n",
              "      <td>2022-03-27</td>\n",
              "      <td>$11,176.31</td>\n",
              "      <td>$8,959.79</td>\n",
              "      <td>$8,920.20</td>\n",
              "    </tr>\n",
              "    <tr>\n",
              "      <th>142</th>\n",
              "      <td>2022-03-28</td>\n",
              "      <td>$10,842.46</td>\n",
              "      <td>$8,411.14</td>\n",
              "      <td>$8,959.79</td>\n",
              "    </tr>\n",
              "    <tr>\n",
              "      <th>143</th>\n",
              "      <td>2022-03-29</td>\n",
              "      <td>$13,441.36</td>\n",
              "      <td>$8,649.49</td>\n",
              "      <td>$8,411.14</td>\n",
              "    </tr>\n",
              "    <tr>\n",
              "      <th>144</th>\n",
              "      <td>2022-03-30</td>\n",
              "      <td>$12,052.88</td>\n",
              "      <td>$8,560.83</td>\n",
              "      <td>$8,649.49</td>\n",
              "    </tr>\n",
              "    <tr>\n",
              "      <th>145</th>\n",
              "      <td>2022-03-31</td>\n",
              "      <td>$11,276.31</td>\n",
              "      <td>$9,954.71</td>\n",
              "      <td>$8,560.83</td>\n",
              "    </tr>\n",
              "    <tr>\n",
              "      <th>146</th>\n",
              "      <td>2022-04-01</td>\n",
              "      <td>$11,975.83</td>\n",
              "      <td>$9,169.67</td>\n",
              "      <td>$9,954.71</td>\n",
              "    </tr>\n",
              "    <tr>\n",
              "      <th>147</th>\n",
              "      <td>2022-04-02</td>\n",
              "      <td>$10,779.01</td>\n",
              "      <td>$8,164.41</td>\n",
              "      <td>$9,169.67</td>\n",
              "    </tr>\n",
              "    <tr>\n",
              "      <th>148</th>\n",
              "      <td>2022-04-03</td>\n",
              "      <td>$12,107.06</td>\n",
              "      <td>$7,772.34</td>\n",
              "      <td>$8,164.41</td>\n",
              "    </tr>\n",
              "    <tr>\n",
              "      <th>149</th>\n",
              "      <td>2022-04-04</td>\n",
              "      <td>$10,180.52</td>\n",
              "      <td>$7,348.95</td>\n",
              "      <td>$7,772.34</td>\n",
              "    </tr>\n",
              "    <tr>\n",
              "      <th>150</th>\n",
              "      <td>2022-04-05</td>\n",
              "      <td>$10,369.39</td>\n",
              "      <td>$7,064.86</td>\n",
              "      <td>$7,348.95</td>\n",
              "    </tr>\n",
              "    <tr>\n",
              "      <th>151</th>\n",
              "      <td>2022-04-06</td>\n",
              "      <td>$10,419.35</td>\n",
              "      <td>$7,150.04</td>\n",
              "      <td>$7,064.86</td>\n",
              "    </tr>\n",
              "  </tbody>\n",
              "</table>\n",
              "</div>"
            ],
            "text/plain": [
              "           Date  Decentraland    Sandbox      Close\n",
              "119  2022-03-05    $12,626.46  $8,922.20  $8,799.84\n",
              "120  2022-03-06    $14,592.72  $8,504.98  $8,922.20\n",
              "121  2022-03-07    $11,831.43  $7,737.87  $8,504.98\n",
              "122  2022-03-08    $12,332.03  $8,538.25  $7,737.87\n",
              "123  2022-03-09    $12,296.66  $8,524.53  $8,538.25\n",
              "124  2022-03-10    $11,905.19  $8,468.20  $8,524.53\n",
              "125  2022-03-11    $11,016.24  $7,814.54  $8,468.20\n",
              "126  2022-03-12    $12,572.84  $8,225.58  $7,814.54\n",
              "127  2022-03-13     $9,139.64  $8,359.37  $8,225.58\n",
              "128  2022-03-14    $13,047.89  $8,385.90  $8,359.37\n",
              "129  2022-03-15     $9,760.47  $7,836.69  $8,385.90\n",
              "130  2022-03-16    $13,781.26  $9,078.20  $7,836.69\n",
              "131  2022-03-17    $10,662.74  $8,755.92  $9,078.20\n",
              "132  2022-03-18    $10,957.16  $9,794.10  $8,755.92\n",
              "133  2022-03-19    $11,136.47  $9,303.00  $9,794.10\n",
              "134  2022-03-20    $15,592.55  $9,037.73  $9,303.00\n",
              "135  2022-03-21    $10,763.89  $8,306.26  $9,037.73\n",
              "136  2022-03-22    $11,688.97  $9,097.45  $8,306.26\n",
              "137  2022-03-23    $11,152.25  $9,503.87  $9,097.45\n",
              "138  2022-03-24    $10,484.32  $9,114.39  $9,503.87\n",
              "139  2022-03-25    $10,822.68 $10,172.34  $9,114.39\n",
              "140  2022-03-26     $9,961.55  $8,920.20 $10,172.34\n",
              "141  2022-03-27    $11,176.31  $8,959.79  $8,920.20\n",
              "142  2022-03-28    $10,842.46  $8,411.14  $8,959.79\n",
              "143  2022-03-29    $13,441.36  $8,649.49  $8,411.14\n",
              "144  2022-03-30    $12,052.88  $8,560.83  $8,649.49\n",
              "145  2022-03-31    $11,276.31  $9,954.71  $8,560.83\n",
              "146  2022-04-01    $11,975.83  $9,169.67  $9,954.71\n",
              "147  2022-04-02    $10,779.01  $8,164.41  $9,169.67\n",
              "148  2022-04-03    $12,107.06  $7,772.34  $8,164.41\n",
              "149  2022-04-04    $10,180.52  $7,348.95  $7,772.34\n",
              "150  2022-04-05    $10,369.39  $7,064.86  $7,348.95\n",
              "151  2022-04-06    $10,419.35  $7,150.04  $7,064.86"
            ]
          },
          "execution_count": 3,
          "metadata": {},
          "output_type": "execute_result"
        }
      ],
      "source": [
        "today = datetime.today().strftime('%Y-%m-%d')\n",
        "DATASET_START_DATE = '2022-03-04' \n",
        "NFT_COLLECTION = 'Sandbox' #options: 'Decentraland', 'Sandbox'\n",
        "FUTURE_DATAFRAME_DAYS = 30\n",
        "\n",
        "\n",
        "# eth_df = yf.download('ETH-USD',DATASET_START_DATE, today)\n",
        "\n",
        "eth_df=pd.read_csv(\"/Users/School/Documents/MDASC/stat7008/Group Project/NFTs_WEB_APP/nft_price.csv\")\n",
        "eth_df.head()\n",
        "#NFTs avg price prediction\n",
        "eth_df['Close'] = eth_df['Sandbox'].shift(1)\n",
        "eth_df = eth_df[(eth_df['Date'] > DATASET_START_DATE)]\n",
        "eth_df\n"
      ]
    },
    {
      "cell_type": "markdown",
      "metadata": {
        "id": "vlXxDCDn60NB"
      },
      "source": [
        "# New section"
      ]
    },
    {
      "cell_type": "code",
      "execution_count": 4,
      "metadata": {
        "colab": {
          "base_uri": "https://localhost:8080/"
        },
        "id": "nQfGTZVWtm5J",
        "outputId": "3e965eea-795f-40ef-fb14-0065f99cd939"
      },
      "outputs": [
        {
          "name": "stdout",
          "output_type": "stream",
          "text": [
            "<class 'pandas.core.frame.DataFrame'>\n",
            "Int64Index: 33 entries, 119 to 151\n",
            "Data columns (total 4 columns):\n",
            " #   Column        Non-Null Count  Dtype  \n",
            "---  ------        --------------  -----  \n",
            " 0   Date          33 non-null     object \n",
            " 1   Decentraland  33 non-null     float64\n",
            " 2   Sandbox       33 non-null     float64\n",
            " 3   Close         33 non-null     float64\n",
            "dtypes: float64(3), object(1)\n",
            "memory usage: 1.3+ KB\n"
          ]
        }
      ],
      "source": [
        "eth_df.info()"
      ]
    },
    {
      "cell_type": "code",
      "execution_count": 5,
      "metadata": {
        "colab": {
          "base_uri": "https://localhost:8080/"
        },
        "id": "_940Bbrdtpme",
        "outputId": "43c0e8fd-03ae-428d-d4e6-e9c3f849dd74"
      },
      "outputs": [
        {
          "data": {
            "text/plain": [
              "Date            0\n",
              "Decentraland    0\n",
              "Sandbox         0\n",
              "Close           0\n",
              "dtype: int64"
            ]
          },
          "execution_count": 5,
          "metadata": {},
          "output_type": "execute_result"
        }
      ],
      "source": [
        "eth_df.isnull().sum()"
      ]
    },
    {
      "cell_type": "code",
      "execution_count": 6,
      "metadata": {
        "colab": {
          "base_uri": "https://localhost:8080/"
        },
        "id": "HgysNOveguL8",
        "outputId": "db4a88eb-dc22-47ec-e2aa-c63450f99f4b"
      },
      "outputs": [
        {
          "data": {
            "text/plain": [
              "Index(['Date', 'Decentraland', 'Sandbox', 'Close'], dtype='object')"
            ]
          },
          "execution_count": 6,
          "metadata": {},
          "output_type": "execute_result"
        }
      ],
      "source": [
        "eth_df.columns"
      ]
    },
    {
      "cell_type": "code",
      "execution_count": 7,
      "metadata": {
        "colab": {
          "base_uri": "https://localhost:8080/"
        },
        "id": "39pxt0tEgkq7",
        "outputId": "98a38d7c-28c7-4ac9-a41b-c85cc16a6a1f"
      },
      "outputs": [
        {
          "data": {
            "text/plain": [
              "Index(['index', 'Date', 'Decentraland', 'Sandbox', 'Close'], dtype='object')"
            ]
          },
          "execution_count": 7,
          "metadata": {},
          "output_type": "execute_result"
        }
      ],
      "source": [
        "eth_df.reset_index(inplace=True)\n",
        "eth_df.columns"
      ]
    },
    {
      "cell_type": "code",
      "execution_count": 8,
      "metadata": {
        "id": "Ps2rgd2L3EDP"
      },
      "outputs": [],
      "source": [
        "df = eth_df[[\"Date\", NFT_COLLECTION]]\n",
        "\n",
        "new_names = {\n",
        "    \"Date\": \"ds\", \n",
        "    NFT_COLLECTION: \"y\",\n",
        "}\n",
        "\n",
        "df.rename(columns=new_names, inplace=True)"
      ]
    },
    {
      "cell_type": "code",
      "execution_count": 9,
      "metadata": {
        "colab": {
          "base_uri": "https://localhost:8080/",
          "height": 206
        },
        "id": "rvOredaW3eaD",
        "outputId": "b8efc546-e26c-441b-9f65-854177f6815b"
      },
      "outputs": [
        {
          "data": {
            "text/html": [
              "<div>\n",
              "<style scoped>\n",
              "    .dataframe tbody tr th:only-of-type {\n",
              "        vertical-align: middle;\n",
              "    }\n",
              "\n",
              "    .dataframe tbody tr th {\n",
              "        vertical-align: top;\n",
              "    }\n",
              "\n",
              "    .dataframe thead th {\n",
              "        text-align: right;\n",
              "    }\n",
              "</style>\n",
              "<table border=\"1\" class=\"dataframe\">\n",
              "  <thead>\n",
              "    <tr style=\"text-align: right;\">\n",
              "      <th></th>\n",
              "      <th>ds</th>\n",
              "      <th>y</th>\n",
              "    </tr>\n",
              "  </thead>\n",
              "  <tbody>\n",
              "    <tr>\n",
              "      <th>28</th>\n",
              "      <td>2022-04-02</td>\n",
              "      <td>$8,164.41</td>\n",
              "    </tr>\n",
              "    <tr>\n",
              "      <th>29</th>\n",
              "      <td>2022-04-03</td>\n",
              "      <td>$7,772.34</td>\n",
              "    </tr>\n",
              "    <tr>\n",
              "      <th>30</th>\n",
              "      <td>2022-04-04</td>\n",
              "      <td>$7,348.95</td>\n",
              "    </tr>\n",
              "    <tr>\n",
              "      <th>31</th>\n",
              "      <td>2022-04-05</td>\n",
              "      <td>$7,064.86</td>\n",
              "    </tr>\n",
              "    <tr>\n",
              "      <th>32</th>\n",
              "      <td>2022-04-06</td>\n",
              "      <td>$7,150.04</td>\n",
              "    </tr>\n",
              "  </tbody>\n",
              "</table>\n",
              "</div>"
            ],
            "text/plain": [
              "            ds         y\n",
              "28  2022-04-02 $8,164.41\n",
              "29  2022-04-03 $7,772.34\n",
              "30  2022-04-04 $7,348.95\n",
              "31  2022-04-05 $7,064.86\n",
              "32  2022-04-06 $7,150.04"
            ]
          },
          "execution_count": 9,
          "metadata": {},
          "output_type": "execute_result"
        }
      ],
      "source": [
        "df.tail()"
      ]
    },
    {
      "cell_type": "code",
      "execution_count": 10,
      "metadata": {
        "colab": {
          "base_uri": "https://localhost:8080/",
          "height": 542
        },
        "id": "60SPukrzjLlf",
        "outputId": "197cb750-9955-46a9-e901-6b078e97d323"
      },
      "outputs": [
        {
          "data": {
            "application/vnd.plotly.v1+json": {
              "config": {
                "plotlyServerURL": "https://plot.ly"
              },
              "data": [
                {
                  "type": "scatter",
                  "x": [
                    "2022-03-05",
                    "2022-03-06",
                    "2022-03-07",
                    "2022-03-08",
                    "2022-03-09",
                    "2022-03-10",
                    "2022-03-11",
                    "2022-03-12",
                    "2022-03-13",
                    "2022-03-14",
                    "2022-03-15",
                    "2022-03-16",
                    "2022-03-17",
                    "2022-03-18",
                    "2022-03-19",
                    "2022-03-20",
                    "2022-03-21",
                    "2022-03-22",
                    "2022-03-23",
                    "2022-03-24",
                    "2022-03-25",
                    "2022-03-26",
                    "2022-03-27",
                    "2022-03-28",
                    "2022-03-29",
                    "2022-03-30",
                    "2022-03-31",
                    "2022-04-01",
                    "2022-04-02",
                    "2022-04-03",
                    "2022-04-04",
                    "2022-04-05",
                    "2022-04-06"
                  ],
                  "y": [
                    8922.197292222223,
                    8504.977305263157,
                    7737.870614848022,
                    8538.249047276262,
                    8524.526422155768,
                    8468.203818076283,
                    7814.539504545458,
                    8225.577451866668,
                    8359.370855927853,
                    8385.896300658716,
                    7836.688559358935,
                    9078.201734935265,
                    8755.916221076268,
                    9794.098536480004,
                    9302.99910673634,
                    9037.725764888888,
                    8306.258810594894,
                    9097.4525448,
                    9503.873016923077,
                    9114.39473063973,
                    10172.340934302054,
                    8920.204521925925,
                    8959.786336388888,
                    8411.137031956792,
                    8649.493605704401,
                    8560.826959066218,
                    9954.708733363756,
                    9169.668745714289,
                    8164.407782389937,
                    7772.3441711228925,
                    7348.949408678239,
                    7064.86356011429,
                    7150.039216430424
                  ]
                }
              ],
              "layout": {
                "template": {
                  "data": {
                    "bar": [
                      {
                        "error_x": {
                          "color": "#2a3f5f"
                        },
                        "error_y": {
                          "color": "#2a3f5f"
                        },
                        "marker": {
                          "line": {
                            "color": "#E5ECF6",
                            "width": 0.5
                          },
                          "pattern": {
                            "fillmode": "overlay",
                            "size": 10,
                            "solidity": 0.2
                          }
                        },
                        "type": "bar"
                      }
                    ],
                    "barpolar": [
                      {
                        "marker": {
                          "line": {
                            "color": "#E5ECF6",
                            "width": 0.5
                          },
                          "pattern": {
                            "fillmode": "overlay",
                            "size": 10,
                            "solidity": 0.2
                          }
                        },
                        "type": "barpolar"
                      }
                    ],
                    "carpet": [
                      {
                        "aaxis": {
                          "endlinecolor": "#2a3f5f",
                          "gridcolor": "white",
                          "linecolor": "white",
                          "minorgridcolor": "white",
                          "startlinecolor": "#2a3f5f"
                        },
                        "baxis": {
                          "endlinecolor": "#2a3f5f",
                          "gridcolor": "white",
                          "linecolor": "white",
                          "minorgridcolor": "white",
                          "startlinecolor": "#2a3f5f"
                        },
                        "type": "carpet"
                      }
                    ],
                    "choropleth": [
                      {
                        "colorbar": {
                          "outlinewidth": 0,
                          "ticks": ""
                        },
                        "type": "choropleth"
                      }
                    ],
                    "contour": [
                      {
                        "colorbar": {
                          "outlinewidth": 0,
                          "ticks": ""
                        },
                        "colorscale": [
                          [
                            0,
                            "#0d0887"
                          ],
                          [
                            0.1111111111111111,
                            "#46039f"
                          ],
                          [
                            0.2222222222222222,
                            "#7201a8"
                          ],
                          [
                            0.3333333333333333,
                            "#9c179e"
                          ],
                          [
                            0.4444444444444444,
                            "#bd3786"
                          ],
                          [
                            0.5555555555555556,
                            "#d8576b"
                          ],
                          [
                            0.6666666666666666,
                            "#ed7953"
                          ],
                          [
                            0.7777777777777778,
                            "#fb9f3a"
                          ],
                          [
                            0.8888888888888888,
                            "#fdca26"
                          ],
                          [
                            1,
                            "#f0f921"
                          ]
                        ],
                        "type": "contour"
                      }
                    ],
                    "contourcarpet": [
                      {
                        "colorbar": {
                          "outlinewidth": 0,
                          "ticks": ""
                        },
                        "type": "contourcarpet"
                      }
                    ],
                    "heatmap": [
                      {
                        "colorbar": {
                          "outlinewidth": 0,
                          "ticks": ""
                        },
                        "colorscale": [
                          [
                            0,
                            "#0d0887"
                          ],
                          [
                            0.1111111111111111,
                            "#46039f"
                          ],
                          [
                            0.2222222222222222,
                            "#7201a8"
                          ],
                          [
                            0.3333333333333333,
                            "#9c179e"
                          ],
                          [
                            0.4444444444444444,
                            "#bd3786"
                          ],
                          [
                            0.5555555555555556,
                            "#d8576b"
                          ],
                          [
                            0.6666666666666666,
                            "#ed7953"
                          ],
                          [
                            0.7777777777777778,
                            "#fb9f3a"
                          ],
                          [
                            0.8888888888888888,
                            "#fdca26"
                          ],
                          [
                            1,
                            "#f0f921"
                          ]
                        ],
                        "type": "heatmap"
                      }
                    ],
                    "heatmapgl": [
                      {
                        "colorbar": {
                          "outlinewidth": 0,
                          "ticks": ""
                        },
                        "colorscale": [
                          [
                            0,
                            "#0d0887"
                          ],
                          [
                            0.1111111111111111,
                            "#46039f"
                          ],
                          [
                            0.2222222222222222,
                            "#7201a8"
                          ],
                          [
                            0.3333333333333333,
                            "#9c179e"
                          ],
                          [
                            0.4444444444444444,
                            "#bd3786"
                          ],
                          [
                            0.5555555555555556,
                            "#d8576b"
                          ],
                          [
                            0.6666666666666666,
                            "#ed7953"
                          ],
                          [
                            0.7777777777777778,
                            "#fb9f3a"
                          ],
                          [
                            0.8888888888888888,
                            "#fdca26"
                          ],
                          [
                            1,
                            "#f0f921"
                          ]
                        ],
                        "type": "heatmapgl"
                      }
                    ],
                    "histogram": [
                      {
                        "marker": {
                          "pattern": {
                            "fillmode": "overlay",
                            "size": 10,
                            "solidity": 0.2
                          }
                        },
                        "type": "histogram"
                      }
                    ],
                    "histogram2d": [
                      {
                        "colorbar": {
                          "outlinewidth": 0,
                          "ticks": ""
                        },
                        "colorscale": [
                          [
                            0,
                            "#0d0887"
                          ],
                          [
                            0.1111111111111111,
                            "#46039f"
                          ],
                          [
                            0.2222222222222222,
                            "#7201a8"
                          ],
                          [
                            0.3333333333333333,
                            "#9c179e"
                          ],
                          [
                            0.4444444444444444,
                            "#bd3786"
                          ],
                          [
                            0.5555555555555556,
                            "#d8576b"
                          ],
                          [
                            0.6666666666666666,
                            "#ed7953"
                          ],
                          [
                            0.7777777777777778,
                            "#fb9f3a"
                          ],
                          [
                            0.8888888888888888,
                            "#fdca26"
                          ],
                          [
                            1,
                            "#f0f921"
                          ]
                        ],
                        "type": "histogram2d"
                      }
                    ],
                    "histogram2dcontour": [
                      {
                        "colorbar": {
                          "outlinewidth": 0,
                          "ticks": ""
                        },
                        "colorscale": [
                          [
                            0,
                            "#0d0887"
                          ],
                          [
                            0.1111111111111111,
                            "#46039f"
                          ],
                          [
                            0.2222222222222222,
                            "#7201a8"
                          ],
                          [
                            0.3333333333333333,
                            "#9c179e"
                          ],
                          [
                            0.4444444444444444,
                            "#bd3786"
                          ],
                          [
                            0.5555555555555556,
                            "#d8576b"
                          ],
                          [
                            0.6666666666666666,
                            "#ed7953"
                          ],
                          [
                            0.7777777777777778,
                            "#fb9f3a"
                          ],
                          [
                            0.8888888888888888,
                            "#fdca26"
                          ],
                          [
                            1,
                            "#f0f921"
                          ]
                        ],
                        "type": "histogram2dcontour"
                      }
                    ],
                    "mesh3d": [
                      {
                        "colorbar": {
                          "outlinewidth": 0,
                          "ticks": ""
                        },
                        "type": "mesh3d"
                      }
                    ],
                    "parcoords": [
                      {
                        "line": {
                          "colorbar": {
                            "outlinewidth": 0,
                            "ticks": ""
                          }
                        },
                        "type": "parcoords"
                      }
                    ],
                    "pie": [
                      {
                        "automargin": true,
                        "type": "pie"
                      }
                    ],
                    "scatter": [
                      {
                        "fillpattern": {
                          "fillmode": "overlay",
                          "size": 10,
                          "solidity": 0.2
                        },
                        "type": "scatter"
                      }
                    ],
                    "scatter3d": [
                      {
                        "line": {
                          "colorbar": {
                            "outlinewidth": 0,
                            "ticks": ""
                          }
                        },
                        "marker": {
                          "colorbar": {
                            "outlinewidth": 0,
                            "ticks": ""
                          }
                        },
                        "type": "scatter3d"
                      }
                    ],
                    "scattercarpet": [
                      {
                        "marker": {
                          "colorbar": {
                            "outlinewidth": 0,
                            "ticks": ""
                          }
                        },
                        "type": "scattercarpet"
                      }
                    ],
                    "scattergeo": [
                      {
                        "marker": {
                          "colorbar": {
                            "outlinewidth": 0,
                            "ticks": ""
                          }
                        },
                        "type": "scattergeo"
                      }
                    ],
                    "scattergl": [
                      {
                        "marker": {
                          "colorbar": {
                            "outlinewidth": 0,
                            "ticks": ""
                          }
                        },
                        "type": "scattergl"
                      }
                    ],
                    "scattermapbox": [
                      {
                        "marker": {
                          "colorbar": {
                            "outlinewidth": 0,
                            "ticks": ""
                          }
                        },
                        "type": "scattermapbox"
                      }
                    ],
                    "scatterpolar": [
                      {
                        "marker": {
                          "colorbar": {
                            "outlinewidth": 0,
                            "ticks": ""
                          }
                        },
                        "type": "scatterpolar"
                      }
                    ],
                    "scatterpolargl": [
                      {
                        "marker": {
                          "colorbar": {
                            "outlinewidth": 0,
                            "ticks": ""
                          }
                        },
                        "type": "scatterpolargl"
                      }
                    ],
                    "scatterternary": [
                      {
                        "marker": {
                          "colorbar": {
                            "outlinewidth": 0,
                            "ticks": ""
                          }
                        },
                        "type": "scatterternary"
                      }
                    ],
                    "surface": [
                      {
                        "colorbar": {
                          "outlinewidth": 0,
                          "ticks": ""
                        },
                        "colorscale": [
                          [
                            0,
                            "#0d0887"
                          ],
                          [
                            0.1111111111111111,
                            "#46039f"
                          ],
                          [
                            0.2222222222222222,
                            "#7201a8"
                          ],
                          [
                            0.3333333333333333,
                            "#9c179e"
                          ],
                          [
                            0.4444444444444444,
                            "#bd3786"
                          ],
                          [
                            0.5555555555555556,
                            "#d8576b"
                          ],
                          [
                            0.6666666666666666,
                            "#ed7953"
                          ],
                          [
                            0.7777777777777778,
                            "#fb9f3a"
                          ],
                          [
                            0.8888888888888888,
                            "#fdca26"
                          ],
                          [
                            1,
                            "#f0f921"
                          ]
                        ],
                        "type": "surface"
                      }
                    ],
                    "table": [
                      {
                        "cells": {
                          "fill": {
                            "color": "#EBF0F8"
                          },
                          "line": {
                            "color": "white"
                          }
                        },
                        "header": {
                          "fill": {
                            "color": "#C8D4E3"
                          },
                          "line": {
                            "color": "white"
                          }
                        },
                        "type": "table"
                      }
                    ]
                  },
                  "layout": {
                    "annotationdefaults": {
                      "arrowcolor": "#2a3f5f",
                      "arrowhead": 0,
                      "arrowwidth": 1
                    },
                    "autotypenumbers": "strict",
                    "coloraxis": {
                      "colorbar": {
                        "outlinewidth": 0,
                        "ticks": ""
                      }
                    },
                    "colorscale": {
                      "diverging": [
                        [
                          0,
                          "#8e0152"
                        ],
                        [
                          0.1,
                          "#c51b7d"
                        ],
                        [
                          0.2,
                          "#de77ae"
                        ],
                        [
                          0.3,
                          "#f1b6da"
                        ],
                        [
                          0.4,
                          "#fde0ef"
                        ],
                        [
                          0.5,
                          "#f7f7f7"
                        ],
                        [
                          0.6,
                          "#e6f5d0"
                        ],
                        [
                          0.7,
                          "#b8e186"
                        ],
                        [
                          0.8,
                          "#7fbc41"
                        ],
                        [
                          0.9,
                          "#4d9221"
                        ],
                        [
                          1,
                          "#276419"
                        ]
                      ],
                      "sequential": [
                        [
                          0,
                          "#0d0887"
                        ],
                        [
                          0.1111111111111111,
                          "#46039f"
                        ],
                        [
                          0.2222222222222222,
                          "#7201a8"
                        ],
                        [
                          0.3333333333333333,
                          "#9c179e"
                        ],
                        [
                          0.4444444444444444,
                          "#bd3786"
                        ],
                        [
                          0.5555555555555556,
                          "#d8576b"
                        ],
                        [
                          0.6666666666666666,
                          "#ed7953"
                        ],
                        [
                          0.7777777777777778,
                          "#fb9f3a"
                        ],
                        [
                          0.8888888888888888,
                          "#fdca26"
                        ],
                        [
                          1,
                          "#f0f921"
                        ]
                      ],
                      "sequentialminus": [
                        [
                          0,
                          "#0d0887"
                        ],
                        [
                          0.1111111111111111,
                          "#46039f"
                        ],
                        [
                          0.2222222222222222,
                          "#7201a8"
                        ],
                        [
                          0.3333333333333333,
                          "#9c179e"
                        ],
                        [
                          0.4444444444444444,
                          "#bd3786"
                        ],
                        [
                          0.5555555555555556,
                          "#d8576b"
                        ],
                        [
                          0.6666666666666666,
                          "#ed7953"
                        ],
                        [
                          0.7777777777777778,
                          "#fb9f3a"
                        ],
                        [
                          0.8888888888888888,
                          "#fdca26"
                        ],
                        [
                          1,
                          "#f0f921"
                        ]
                      ]
                    },
                    "colorway": [
                      "#636efa",
                      "#EF553B",
                      "#00cc96",
                      "#ab63fa",
                      "#FFA15A",
                      "#19d3f3",
                      "#FF6692",
                      "#B6E880",
                      "#FF97FF",
                      "#FECB52"
                    ],
                    "font": {
                      "color": "#2a3f5f"
                    },
                    "geo": {
                      "bgcolor": "white",
                      "lakecolor": "white",
                      "landcolor": "#E5ECF6",
                      "showlakes": true,
                      "showland": true,
                      "subunitcolor": "white"
                    },
                    "hoverlabel": {
                      "align": "left"
                    },
                    "hovermode": "closest",
                    "mapbox": {
                      "style": "light"
                    },
                    "paper_bgcolor": "white",
                    "plot_bgcolor": "#E5ECF6",
                    "polar": {
                      "angularaxis": {
                        "gridcolor": "white",
                        "linecolor": "white",
                        "ticks": ""
                      },
                      "bgcolor": "#E5ECF6",
                      "radialaxis": {
                        "gridcolor": "white",
                        "linecolor": "white",
                        "ticks": ""
                      }
                    },
                    "scene": {
                      "xaxis": {
                        "backgroundcolor": "#E5ECF6",
                        "gridcolor": "white",
                        "gridwidth": 2,
                        "linecolor": "white",
                        "showbackground": true,
                        "ticks": "",
                        "zerolinecolor": "white"
                      },
                      "yaxis": {
                        "backgroundcolor": "#E5ECF6",
                        "gridcolor": "white",
                        "gridwidth": 2,
                        "linecolor": "white",
                        "showbackground": true,
                        "ticks": "",
                        "zerolinecolor": "white"
                      },
                      "zaxis": {
                        "backgroundcolor": "#E5ECF6",
                        "gridcolor": "white",
                        "gridwidth": 2,
                        "linecolor": "white",
                        "showbackground": true,
                        "ticks": "",
                        "zerolinecolor": "white"
                      }
                    },
                    "shapedefaults": {
                      "line": {
                        "color": "#2a3f5f"
                      }
                    },
                    "ternary": {
                      "aaxis": {
                        "gridcolor": "white",
                        "linecolor": "white",
                        "ticks": ""
                      },
                      "baxis": {
                        "gridcolor": "white",
                        "linecolor": "white",
                        "ticks": ""
                      },
                      "bgcolor": "#E5ECF6",
                      "caxis": {
                        "gridcolor": "white",
                        "linecolor": "white",
                        "ticks": ""
                      }
                    },
                    "title": {
                      "x": 0.05
                    },
                    "xaxis": {
                      "automargin": true,
                      "gridcolor": "white",
                      "linecolor": "white",
                      "ticks": "",
                      "title": {
                        "standoff": 15
                      },
                      "zerolinecolor": "white",
                      "zerolinewidth": 2
                    },
                    "yaxis": {
                      "automargin": true,
                      "gridcolor": "white",
                      "linecolor": "white",
                      "ticks": "",
                      "title": {
                        "standoff": 15
                      },
                      "zerolinecolor": "white",
                      "zerolinewidth": 2
                    }
                  }
                },
                "title": {
                  "text": "Time series plot of avg price of Sandbox's NFTs "
                },
                "xaxis": {
                  "rangeselector": {
                    "buttons": [
                      {
                        "count": 1,
                        "label": "1m",
                        "step": "month",
                        "stepmode": "backward"
                      },
                      {
                        "count": 6,
                        "label": "6m",
                        "step": "month",
                        "stepmode": "backward"
                      },
                      {
                        "count": 1,
                        "label": "YTD",
                        "step": "year",
                        "stepmode": "todate"
                      },
                      {
                        "count": 1,
                        "label": "1y",
                        "step": "year",
                        "stepmode": "backward"
                      },
                      {
                        "step": "all"
                      }
                    ]
                  },
                  "rangeslider": {
                    "visible": true
                  },
                  "type": "date"
                }
              }
            }
          },
          "metadata": {},
          "output_type": "display_data"
        }
      ],
      "source": [
        "# plot the open price\n",
        "\n",
        "x = df[\"ds\"]\n",
        "y = df[\"y\"]\n",
        "\n",
        "fig = go.Figure()\n",
        "\n",
        "fig.add_trace(go.Scatter(x=x, y=y))\n",
        "\n",
        "# Set title\n",
        "fig.update_layout(\n",
        "    title_text=\"Time series plot of avg price of \"+ NFT_COLLECTION +\"'s NFTs \",\n",
        ")\n",
        "\n",
        "fig.update_layout(\n",
        "    xaxis=dict(\n",
        "        rangeselector=dict(\n",
        "            buttons=list(\n",
        "                [\n",
        "                    dict(count=1, label=\"1m\", step=\"month\", stepmode=\"backward\"),\n",
        "                    dict(count=6, label=\"6m\", step=\"month\", stepmode=\"backward\"),\n",
        "                    dict(count=1, label=\"YTD\", step=\"year\", stepmode=\"todate\"),\n",
        "                    dict(count=1, label=\"1y\", step=\"year\", stepmode=\"backward\"),\n",
        "                    dict(step=\"all\"),\n",
        "                ]\n",
        "            )\n",
        "        ),\n",
        "        rangeslider=dict(visible=True),\n",
        "        type=\"date\",\n",
        "    )\n",
        ")"
      ]
    },
    {
      "cell_type": "code",
      "execution_count": 11,
      "metadata": {
        "colab": {
          "base_uri": "https://localhost:8080/"
        },
        "id": "NvGVBudz5s3-",
        "outputId": "2611f6f9-6c7c-4316-86a0-8c3d2c2dca0c"
      },
      "outputs": [
        {
          "name": "stderr",
          "output_type": "stream",
          "text": [
            "INFO:fbprophet:Disabling yearly seasonality. Run prophet with yearly_seasonality=True to override this.\n",
            "INFO:fbprophet:Disabling daily seasonality. Run prophet with daily_seasonality=True to override this.\n"
          ]
        },
        {
          "name": "stdout",
          "output_type": "stream",
          "text": [
            "\n"
          ]
        },
        {
          "data": {
            "text/plain": [
              "<fbprophet.forecaster.Prophet at 0x7fb6c9fb0970>"
            ]
          },
          "execution_count": 11,
          "metadata": {},
          "output_type": "execute_result"
        },
        {
          "name": "stdout",
          "output_type": "stream",
          "text": [
            "Initial log joint probability = 0.444831\n",
            "Iteration  1. Log joint probability =    33.7976. Improved by 33.3528.\n",
            "Iteration  2. Log joint probability =    56.5956. Improved by 22.798.\n",
            "Iteration  3. Log joint probability =    72.0115. Improved by 15.4159.\n",
            "Iteration  4. Log joint probability =    72.3887. Improved by 0.377201.\n",
            "Iteration  5. Log joint probability =    73.8594. Improved by 1.4707.\n",
            "Iteration  6. Log joint probability =    73.8799. Improved by 0.0204889.\n",
            "Iteration  7. Log joint probability =    73.8856. Improved by 0.0057112.\n",
            "Iteration  8. Log joint probability =    73.9163. Improved by 0.0307028.\n",
            "Iteration  9. Log joint probability =    73.9606. Improved by 0.0443081.\n",
            "Iteration 10. Log joint probability =    73.9809. Improved by 0.0202977.\n",
            "Iteration 11. Log joint probability =    74.0284. Improved by 0.0474476.\n",
            "Iteration 12. Log joint probability =    74.0955. Improved by 0.0671012.\n",
            "Iteration 13. Log joint probability =    74.1145. Improved by 0.0190692.\n",
            "Iteration 14. Log joint probability =    74.1868. Improved by 0.0722208.\n",
            "Iteration 15. Log joint probability =    74.4284. Improved by 0.24165.\n",
            "Iteration 16. Log joint probability =    74.8141. Improved by 0.385656.\n",
            "Iteration 17. Log joint probability =    74.8221. Improved by 0.00802283.\n",
            "Iteration 18. Log joint probability =    75.1884. Improved by 0.366337.\n",
            "Iteration 19. Log joint probability =    75.2043. Improved by 0.0158753.\n",
            "Iteration 20. Log joint probability =    75.2269. Improved by 0.0226013.\n",
            "Iteration 21. Log joint probability =    75.2506. Improved by 0.0236459.\n",
            "Iteration 22. Log joint probability =    75.2744. Improved by 0.0238741.\n",
            "Iteration 23. Log joint probability =    75.3182. Improved by 0.0438151.\n",
            "Iteration 24. Log joint probability =    75.3372. Improved by 0.0189416.\n",
            "Iteration 25. Log joint probability =    76.5646. Improved by 1.22744.\n",
            "Iteration 26. Log joint probability =    76.5799. Improved by 0.0152608.\n",
            "Iteration 27. Log joint probability =    76.5879. Improved by 0.00804295.\n",
            "Iteration 28. Log joint probability =    76.6018. Improved by 0.0138794.\n",
            "Iteration 29. Log joint probability =    76.6163. Improved by 0.0144551.\n",
            "Iteration 30. Log joint probability =    76.6234. Improved by 0.00717854.\n",
            "Iteration 31. Log joint probability =    76.6427. Improved by 0.0192862.\n",
            "Iteration 32. Log joint probability =     76.891. Improved by 0.248284.\n",
            "Iteration 33. Log joint probability =    76.8926. Improved by 0.00157296.\n",
            "Iteration 34. Log joint probability =    77.0119. Improved by 0.119341.\n",
            "Iteration 35. Log joint probability =    77.0441. Improved by 0.0321566.\n",
            "Iteration 36. Log joint probability =    77.0474. Improved by 0.00329682.\n",
            "Iteration 37. Log joint probability =    77.0624. Improved by 0.0150367.\n",
            "Iteration 38. Log joint probability =    77.0723. Improved by 0.00988462.\n",
            "Iteration 39. Log joint probability =    77.0738. Improved by 0.00149823.\n",
            "Iteration 40. Log joint probability =     77.083. Improved by 0.00917761.\n",
            "Iteration 41. Log joint probability =    77.0893. Improved by 0.00627372.\n",
            "Iteration 42. Log joint probability =    77.0939. Improved by 0.00462317.\n",
            "Iteration 43. Log joint probability =    77.0977. Improved by 0.0037935.\n",
            "Iteration 44. Log joint probability =    77.1018. Improved by 0.00413025.\n",
            "Iteration 45. Log joint probability =     77.105. Improved by 0.00317138.\n",
            "Iteration 46. Log joint probability =    77.1083. Improved by 0.00330822.\n",
            "Iteration 47. Log joint probability =    77.1121. Improved by 0.00383867.\n",
            "Iteration 48. Log joint probability =    77.1148. Improved by 0.00268173.\n",
            "Iteration 49. Log joint probability =     77.115. Improved by 0.000235143.\n",
            "Iteration 50. Log joint probability =    77.1151. Improved by 7.91956e-05.\n",
            "Iteration 51. Log joint probability =    77.1165. Improved by 0.00138341.\n",
            "Iteration 52. Log joint probability =    77.1173. Improved by 0.000803492.\n",
            "Iteration 53. Log joint probability =    77.1183. Improved by 0.000981296.\n",
            "Iteration 54. Log joint probability =    77.1185. Improved by 0.000234822.\n",
            "Iteration 55. Log joint probability =    77.1189. Improved by 0.000409662.\n",
            "Iteration 56. Log joint probability =    77.1193. Improved by 0.000326779.\n",
            "Iteration 57. Log joint probability =    77.1194. Improved by 0.000126639.\n",
            "Iteration 58. Log joint probability =    77.1194. Improved by 3.21242e-05.\n",
            "Iteration 59. Log joint probability =    77.1194. Improved by 1.11295e-05.\n",
            "Iteration 60. Log joint probability =    77.1195. Improved by 3.6461e-05.\n",
            "Iteration 61. Log joint probability =    77.1195. Improved by 5.74051e-05.\n",
            "Iteration 62. Log joint probability =    77.1196. Improved by 7.42616e-05.\n",
            "Iteration 63. Log joint probability =    77.1196. Improved by 1.66901e-05.\n",
            "Iteration 64. Log joint probability =    77.1196. Improved by 1.78112e-05.\n",
            "Iteration 65. Log joint probability =    77.1196. Improved by 8.81746e-06.\n",
            "Iteration 66. Log joint probability =    77.1197. Improved by 2.36226e-05.\n",
            "Iteration 67. Log joint probability =    77.1197. Improved by 2.15951e-07.\n",
            "Iteration 68. Log joint probability =    77.1197. Improved by 3.83005e-05.\n",
            "Iteration 69. Log joint probability =    77.1197. Improved by 4.18792e-05.\n",
            "Iteration 70. Log joint probability =    77.1198. Improved by 1.91489e-05.\n",
            "Iteration 71. Log joint probability =    77.1198. Improved by 8.36423e-06.\n",
            "Iteration 72. Log joint probability =    77.1198. Improved by 6.24333e-06.\n",
            "Iteration 73. Log joint probability =    77.1198. Improved by 5.78182e-06.\n",
            "Iteration 74. Log joint probability =    77.1198. Improved by 3.74811e-06.\n",
            "Iteration 75. Log joint probability =    77.1198. Improved by 1.68339e-06.\n",
            "Iteration 76. Log joint probability =    77.1198. Improved by 1.72964e-06.\n",
            "Iteration 77. Log joint probability =    77.1198. Improved by 2.87104e-06.\n",
            "Iteration 78. Log joint probability =    77.1198. Improved by 1.55808e-06.\n",
            "Iteration 79. Log joint probability =    77.1198. Improved by 2.02404e-07.\n",
            "Iteration 80. Log joint probability =    77.1198. Improved by 3.55204e-07.\n",
            "Iteration 81. Log joint probability =    77.1198. Improved by 4.74852e-07.\n",
            "Iteration 82. Log joint probability =    77.1198. Improved by 9.29621e-08.\n",
            "Iteration 83. Log joint probability =    77.1198. Improved by 2.78604e-10.\n"
          ]
        }
      ],
      "source": [
        "m = Prophet(\n",
        "    # seasonality_mode=\"multiplicative\" \n",
        ")\n",
        "\n",
        "m.fit(df)"
      ]
    },
    {
      "cell_type": "code",
      "execution_count": 12,
      "metadata": {
        "colab": {
          "base_uri": "https://localhost:8080/",
          "height": 206
        },
        "id": "ZLSmkanEfxK6",
        "outputId": "15c22e45-7f29-483a-b542-e8590d0565c9"
      },
      "outputs": [
        {
          "data": {
            "text/html": [
              "<div>\n",
              "<style scoped>\n",
              "    .dataframe tbody tr th:only-of-type {\n",
              "        vertical-align: middle;\n",
              "    }\n",
              "\n",
              "    .dataframe tbody tr th {\n",
              "        vertical-align: top;\n",
              "    }\n",
              "\n",
              "    .dataframe thead th {\n",
              "        text-align: right;\n",
              "    }\n",
              "</style>\n",
              "<table border=\"1\" class=\"dataframe\">\n",
              "  <thead>\n",
              "    <tr style=\"text-align: right;\">\n",
              "      <th></th>\n",
              "      <th>ds</th>\n",
              "    </tr>\n",
              "  </thead>\n",
              "  <tbody>\n",
              "    <tr>\n",
              "      <th>58</th>\n",
              "      <td>2022-05-02</td>\n",
              "    </tr>\n",
              "    <tr>\n",
              "      <th>59</th>\n",
              "      <td>2022-05-03</td>\n",
              "    </tr>\n",
              "    <tr>\n",
              "      <th>60</th>\n",
              "      <td>2022-05-04</td>\n",
              "    </tr>\n",
              "    <tr>\n",
              "      <th>61</th>\n",
              "      <td>2022-05-05</td>\n",
              "    </tr>\n",
              "    <tr>\n",
              "      <th>62</th>\n",
              "      <td>2022-05-06</td>\n",
              "    </tr>\n",
              "  </tbody>\n",
              "</table>\n",
              "</div>"
            ],
            "text/plain": [
              "           ds\n",
              "58 2022-05-02\n",
              "59 2022-05-03\n",
              "60 2022-05-04\n",
              "61 2022-05-05\n",
              "62 2022-05-06"
            ]
          },
          "execution_count": 12,
          "metadata": {},
          "output_type": "execute_result"
        }
      ],
      "source": [
        "future = m.make_future_dataframe(periods = FUTURE_DATAFRAME_DAYS)\n",
        "future.tail()"
      ]
    },
    {
      "cell_type": "code",
      "execution_count": 13,
      "metadata": {
        "colab": {
          "base_uri": "https://localhost:8080/",
          "height": 206
        },
        "id": "QUxvUHl5f0Zt",
        "outputId": "e147e447-0d45-4d80-c25d-912ebfeb2606"
      },
      "outputs": [
        {
          "data": {
            "text/html": [
              "<div>\n",
              "<style scoped>\n",
              "    .dataframe tbody tr th:only-of-type {\n",
              "        vertical-align: middle;\n",
              "    }\n",
              "\n",
              "    .dataframe tbody tr th {\n",
              "        vertical-align: top;\n",
              "    }\n",
              "\n",
              "    .dataframe thead th {\n",
              "        text-align: right;\n",
              "    }\n",
              "</style>\n",
              "<table border=\"1\" class=\"dataframe\">\n",
              "  <thead>\n",
              "    <tr style=\"text-align: right;\">\n",
              "      <th></th>\n",
              "      <th>ds</th>\n",
              "      <th>yhat</th>\n",
              "      <th>yhat_lower</th>\n",
              "      <th>yhat_upper</th>\n",
              "    </tr>\n",
              "  </thead>\n",
              "  <tbody>\n",
              "    <tr>\n",
              "      <th>58</th>\n",
              "      <td>2022-05-02</td>\n",
              "      <td>$5,346.90</td>\n",
              "      <td>$4,513.83</td>\n",
              "      <td>$6,171.92</td>\n",
              "    </tr>\n",
              "    <tr>\n",
              "      <th>59</th>\n",
              "      <td>2022-05-03</td>\n",
              "      <td>$5,410.33</td>\n",
              "      <td>$4,592.06</td>\n",
              "      <td>$6,296.64</td>\n",
              "    </tr>\n",
              "    <tr>\n",
              "      <th>60</th>\n",
              "      <td>2022-05-04</td>\n",
              "      <td>$5,552.58</td>\n",
              "      <td>$4,668.84</td>\n",
              "      <td>$6,424.15</td>\n",
              "    </tr>\n",
              "    <tr>\n",
              "      <th>61</th>\n",
              "      <td>2022-05-05</td>\n",
              "      <td>$5,676.08</td>\n",
              "      <td>$4,717.72</td>\n",
              "      <td>$6,639.04</td>\n",
              "    </tr>\n",
              "    <tr>\n",
              "      <th>62</th>\n",
              "      <td>2022-05-06</td>\n",
              "      <td>$5,696.19</td>\n",
              "      <td>$4,686.17</td>\n",
              "      <td>$6,724.63</td>\n",
              "    </tr>\n",
              "  </tbody>\n",
              "</table>\n",
              "</div>"
            ],
            "text/plain": [
              "           ds      yhat  yhat_lower  yhat_upper\n",
              "58 2022-05-02 $5,346.90   $4,513.83   $6,171.92\n",
              "59 2022-05-03 $5,410.33   $4,592.06   $6,296.64\n",
              "60 2022-05-04 $5,552.58   $4,668.84   $6,424.15\n",
              "61 2022-05-05 $5,676.08   $4,717.72   $6,639.04\n",
              "62 2022-05-06 $5,696.19   $4,686.17   $6,724.63"
            ]
          },
          "execution_count": 13,
          "metadata": {},
          "output_type": "execute_result"
        }
      ],
      "source": [
        "forecast = m.predict(future)\n",
        "forecast[['ds', 'yhat', 'yhat_lower', 'yhat_upper']].tail()"
      ]
    },
    {
      "cell_type": "code",
      "execution_count": 14,
      "metadata": {
        "colab": {
          "base_uri": "https://localhost:8080/"
        },
        "id": "S7IsRqMnN443",
        "outputId": "4a46052b-3f89-4222-f8cb-74ce9a879114"
      },
      "outputs": [
        {
          "data": {
            "text/plain": [
              "6558.206000599778"
            ]
          },
          "execution_count": 14,
          "metadata": {},
          "output_type": "execute_result"
        }
      ],
      "source": [
        "next_day = (datetime.today() + timedelta(days=1)).strftime('%Y-%m-%d')\n",
        "\n",
        "forecast[forecast['ds'] == next_day]['yhat'].item()"
      ]
    },
    {
      "cell_type": "code",
      "execution_count": 15,
      "metadata": {
        "colab": {
          "base_uri": "https://localhost:8080/",
          "height": 617
        },
        "id": "APomV-ehh8tH",
        "outputId": "28de61ee-00f7-4977-a803-f3a86cceda93"
      },
      "outputs": [
        {
          "data": {
            "application/vnd.plotly.v1+json": {
              "config": {
                "plotlyServerURL": "https://plot.ly"
              },
              "data": [
                {
                  "marker": {
                    "color": "black",
                    "size": 4
                  },
                  "mode": "markers",
                  "name": "Actual",
                  "type": "scatter",
                  "x": [
                    "2022-03-05T00:00:00",
                    "2022-03-06T00:00:00",
                    "2022-03-07T00:00:00",
                    "2022-03-08T00:00:00",
                    "2022-03-09T00:00:00",
                    "2022-03-10T00:00:00",
                    "2022-03-11T00:00:00",
                    "2022-03-12T00:00:00",
                    "2022-03-13T00:00:00",
                    "2022-03-14T00:00:00",
                    "2022-03-15T00:00:00",
                    "2022-03-16T00:00:00",
                    "2022-03-17T00:00:00",
                    "2022-03-18T00:00:00",
                    "2022-03-19T00:00:00",
                    "2022-03-20T00:00:00",
                    "2022-03-21T00:00:00",
                    "2022-03-22T00:00:00",
                    "2022-03-23T00:00:00",
                    "2022-03-24T00:00:00",
                    "2022-03-25T00:00:00",
                    "2022-03-26T00:00:00",
                    "2022-03-27T00:00:00",
                    "2022-03-28T00:00:00",
                    "2022-03-29T00:00:00",
                    "2022-03-30T00:00:00",
                    "2022-03-31T00:00:00",
                    "2022-04-01T00:00:00",
                    "2022-04-02T00:00:00",
                    "2022-04-03T00:00:00",
                    "2022-04-04T00:00:00",
                    "2022-04-05T00:00:00",
                    "2022-04-06T00:00:00"
                  ],
                  "y": [
                    8922.197292222223,
                    8504.977305263157,
                    7737.870614848022,
                    8538.249047276262,
                    8524.526422155768,
                    8468.203818076283,
                    7814.539504545458,
                    8225.577451866668,
                    8359.370855927853,
                    8385.896300658716,
                    7836.688559358935,
                    9078.201734935265,
                    8755.916221076268,
                    9794.098536480004,
                    9302.99910673634,
                    9037.725764888888,
                    8306.258810594894,
                    9097.4525448,
                    9503.873016923077,
                    9114.39473063973,
                    10172.340934302054,
                    8920.204521925925,
                    8959.786336388888,
                    8411.137031956792,
                    8649.493605704401,
                    8560.826959066218,
                    9954.708733363756,
                    9169.668745714289,
                    8164.407782389937,
                    7772.3441711228925,
                    7348.949408678239,
                    7064.86356011429,
                    7150.039216430424
                  ]
                },
                {
                  "hoverinfo": "skip",
                  "line": {
                    "width": 0
                  },
                  "mode": "lines",
                  "type": "scatter",
                  "x": [
                    "2022-03-05T00:00:00",
                    "2022-03-06T00:00:00",
                    "2022-03-07T00:00:00",
                    "2022-03-08T00:00:00",
                    "2022-03-09T00:00:00",
                    "2022-03-10T00:00:00",
                    "2022-03-11T00:00:00",
                    "2022-03-12T00:00:00",
                    "2022-03-13T00:00:00",
                    "2022-03-14T00:00:00",
                    "2022-03-15T00:00:00",
                    "2022-03-16T00:00:00",
                    "2022-03-17T00:00:00",
                    "2022-03-18T00:00:00",
                    "2022-03-19T00:00:00",
                    "2022-03-20T00:00:00",
                    "2022-03-21T00:00:00",
                    "2022-03-22T00:00:00",
                    "2022-03-23T00:00:00",
                    "2022-03-24T00:00:00",
                    "2022-03-25T00:00:00",
                    "2022-03-26T00:00:00",
                    "2022-03-27T00:00:00",
                    "2022-03-28T00:00:00",
                    "2022-03-29T00:00:00",
                    "2022-03-30T00:00:00",
                    "2022-03-31T00:00:00",
                    "2022-04-01T00:00:00",
                    "2022-04-02T00:00:00",
                    "2022-04-03T00:00:00",
                    "2022-04-04T00:00:00",
                    "2022-04-05T00:00:00",
                    "2022-04-06T00:00:00",
                    "2022-04-07T00:00:00",
                    "2022-04-08T00:00:00",
                    "2022-04-09T00:00:00",
                    "2022-04-10T00:00:00",
                    "2022-04-11T00:00:00",
                    "2022-04-12T00:00:00",
                    "2022-04-13T00:00:00",
                    "2022-04-14T00:00:00",
                    "2022-04-15T00:00:00",
                    "2022-04-16T00:00:00",
                    "2022-04-17T00:00:00",
                    "2022-04-18T00:00:00",
                    "2022-04-19T00:00:00",
                    "2022-04-20T00:00:00",
                    "2022-04-21T00:00:00",
                    "2022-04-22T00:00:00",
                    "2022-04-23T00:00:00",
                    "2022-04-24T00:00:00",
                    "2022-04-25T00:00:00",
                    "2022-04-26T00:00:00",
                    "2022-04-27T00:00:00",
                    "2022-04-28T00:00:00",
                    "2022-04-29T00:00:00",
                    "2022-04-30T00:00:00",
                    "2022-05-01T00:00:00",
                    "2022-05-02T00:00:00",
                    "2022-05-03T00:00:00",
                    "2022-05-04T00:00:00",
                    "2022-05-05T00:00:00",
                    "2022-05-06T00:00:00"
                  ],
                  "y": [
                    7821.546011526584,
                    7735.624068500645,
                    7340.431623158066,
                    7595.078364772504,
                    7941.757416452876,
                    8316.729124801039,
                    8572.306515003693,
                    8059.946172598238,
                    7968.720677489083,
                    7520.865512248207,
                    7797.214443387068,
                    8210.093088921494,
                    8484.404537054634,
                    8763.102725007933,
                    8328.97221209993,
                    8181.793300421022,
                    7736.112964557037,
                    7938.277488359267,
                    8347.984044099116,
                    8709.970527657408,
                    8980.650066352962,
                    8428.94190369198,
                    8178.432484908437,
                    7610.831813588099,
                    7700.284016328956,
                    8031.825318380493,
                    8238.958126378455,
                    8349.76850786525,
                    7808.968109676462,
                    7525.422812316601,
                    7001.769731542084,
                    7144.018087085125,
                    7406.199501160617,
                    7621.502353378728,
                    7650.332898763523,
                    7226.948845951371,
                    6923.531224774633,
                    6405.158735153881,
                    6538.681347215206,
                    6798.886733482898,
                    6958.808536295422,
                    7032.495275402095,
                    6565.560802641768,
                    6335.787647157625,
                    5817.97680846867,
                    5925.573165530968,
                    6131.179838065744,
                    6245.334243059297,
                    6294.774838655844,
                    5911.210698712681,
                    5657.029688112458,
                    5178.982304973194,
                    5310.809374802745,
                    5418.074798112229,
                    5535.196480742395,
                    5488.933127483191,
                    5158.836768745593,
                    4978.605711495726,
                    4513.834862108311,
                    4592.060881736352,
                    4668.841494229866,
                    4717.719555843731,
                    4686.170539082322
                  ]
                },
                {
                  "fill": "tonexty",
                  "fillcolor": "rgba(0, 114, 178, 0.2)",
                  "line": {
                    "color": "#0072B2",
                    "width": 2
                  },
                  "mode": "lines",
                  "name": "Predicted",
                  "type": "scatter",
                  "x": [
                    "2022-03-05T00:00:00",
                    "2022-03-06T00:00:00",
                    "2022-03-07T00:00:00",
                    "2022-03-08T00:00:00",
                    "2022-03-09T00:00:00",
                    "2022-03-10T00:00:00",
                    "2022-03-11T00:00:00",
                    "2022-03-12T00:00:00",
                    "2022-03-13T00:00:00",
                    "2022-03-14T00:00:00",
                    "2022-03-15T00:00:00",
                    "2022-03-16T00:00:00",
                    "2022-03-17T00:00:00",
                    "2022-03-18T00:00:00",
                    "2022-03-19T00:00:00",
                    "2022-03-20T00:00:00",
                    "2022-03-21T00:00:00",
                    "2022-03-22T00:00:00",
                    "2022-03-23T00:00:00",
                    "2022-03-24T00:00:00",
                    "2022-03-25T00:00:00",
                    "2022-03-26T00:00:00",
                    "2022-03-27T00:00:00",
                    "2022-03-28T00:00:00",
                    "2022-03-29T00:00:00",
                    "2022-03-30T00:00:00",
                    "2022-03-31T00:00:00",
                    "2022-04-01T00:00:00",
                    "2022-04-02T00:00:00",
                    "2022-04-03T00:00:00",
                    "2022-04-04T00:00:00",
                    "2022-04-05T00:00:00",
                    "2022-04-06T00:00:00",
                    "2022-04-07T00:00:00",
                    "2022-04-08T00:00:00",
                    "2022-04-09T00:00:00",
                    "2022-04-10T00:00:00",
                    "2022-04-11T00:00:00",
                    "2022-04-12T00:00:00",
                    "2022-04-13T00:00:00",
                    "2022-04-14T00:00:00",
                    "2022-04-15T00:00:00",
                    "2022-04-16T00:00:00",
                    "2022-04-17T00:00:00",
                    "2022-04-18T00:00:00",
                    "2022-04-19T00:00:00",
                    "2022-04-20T00:00:00",
                    "2022-04-21T00:00:00",
                    "2022-04-22T00:00:00",
                    "2022-04-23T00:00:00",
                    "2022-04-24T00:00:00",
                    "2022-04-25T00:00:00",
                    "2022-04-26T00:00:00",
                    "2022-04-27T00:00:00",
                    "2022-04-28T00:00:00",
                    "2022-04-29T00:00:00",
                    "2022-04-30T00:00:00",
                    "2022-05-01T00:00:00",
                    "2022-05-02T00:00:00",
                    "2022-05-03T00:00:00",
                    "2022-05-04T00:00:00",
                    "2022-05-05T00:00:00",
                    "2022-05-06T00:00:00"
                  ],
                  "y": [
                    8478.921050160518,
                    8353.872002632805,
                    7918.372420409243,
                    8166.031783942237,
                    8543.470594722356,
                    8905.145938523818,
                    9114.560175730736,
                    8698.131595544648,
                    8569.054832000256,
                    8121.589659447953,
                    8374.839408384994,
                    8761.134328187652,
                    9131.201396651237,
                    9345.01224937113,
                    8917.171580764158,
                    8783.885074022231,
                    8324.141149602681,
                    8582.379774391486,
                    8976.751428633883,
                    9354.31361617183,
                    9571.636258441955,
                    9015.130154222881,
                    8764.650239859156,
                    8196.571199004009,
                    8338.573360613695,
                    8605.051958451111,
                    8846.232015999693,
                    8929.174231223977,
                    8402.703555483893,
                    8162.095111353868,
                    7626.803537237939,
                    7752.947377300971,
                    7994.557877040892,
                    8212.201178600975,
                    8282.578282575501,
                    7787.871037189092,
                    7558.559363047954,
                    7056.828374128388,
                    7167.29253735005,
                    7384.063795631414,
                    7578.170341203637,
                    7635.982333926574,
                    7173.038518894333,
                    6955.02361474077,
                    6486.853211019687,
                    6581.637697398444,
                    6773.569714221861,
                    6944.139503804883,
                    6989.386385278934,
                    6558.206000599778,
                    6351.48786643338,
                    5916.878047910199,
                    5995.982857446001,
                    6163.075632812236,
                    6310.108666407454,
                    6342.790436630035,
                    5943.373482305089,
                    5747.952118126263,
                    5346.902884801444,
                    5410.32801749446,
                    5552.581551402008,
                    5676.077829008965,
                    5696.194487981212
                  ]
                },
                {
                  "fill": "tonexty",
                  "fillcolor": "rgba(0, 114, 178, 0.2)",
                  "hoverinfo": "skip",
                  "line": {
                    "width": 0
                  },
                  "mode": "lines",
                  "type": "scatter",
                  "x": [
                    "2022-03-05T00:00:00",
                    "2022-03-06T00:00:00",
                    "2022-03-07T00:00:00",
                    "2022-03-08T00:00:00",
                    "2022-03-09T00:00:00",
                    "2022-03-10T00:00:00",
                    "2022-03-11T00:00:00",
                    "2022-03-12T00:00:00",
                    "2022-03-13T00:00:00",
                    "2022-03-14T00:00:00",
                    "2022-03-15T00:00:00",
                    "2022-03-16T00:00:00",
                    "2022-03-17T00:00:00",
                    "2022-03-18T00:00:00",
                    "2022-03-19T00:00:00",
                    "2022-03-20T00:00:00",
                    "2022-03-21T00:00:00",
                    "2022-03-22T00:00:00",
                    "2022-03-23T00:00:00",
                    "2022-03-24T00:00:00",
                    "2022-03-25T00:00:00",
                    "2022-03-26T00:00:00",
                    "2022-03-27T00:00:00",
                    "2022-03-28T00:00:00",
                    "2022-03-29T00:00:00",
                    "2022-03-30T00:00:00",
                    "2022-03-31T00:00:00",
                    "2022-04-01T00:00:00",
                    "2022-04-02T00:00:00",
                    "2022-04-03T00:00:00",
                    "2022-04-04T00:00:00",
                    "2022-04-05T00:00:00",
                    "2022-04-06T00:00:00",
                    "2022-04-07T00:00:00",
                    "2022-04-08T00:00:00",
                    "2022-04-09T00:00:00",
                    "2022-04-10T00:00:00",
                    "2022-04-11T00:00:00",
                    "2022-04-12T00:00:00",
                    "2022-04-13T00:00:00",
                    "2022-04-14T00:00:00",
                    "2022-04-15T00:00:00",
                    "2022-04-16T00:00:00",
                    "2022-04-17T00:00:00",
                    "2022-04-18T00:00:00",
                    "2022-04-19T00:00:00",
                    "2022-04-20T00:00:00",
                    "2022-04-21T00:00:00",
                    "2022-04-22T00:00:00",
                    "2022-04-23T00:00:00",
                    "2022-04-24T00:00:00",
                    "2022-04-25T00:00:00",
                    "2022-04-26T00:00:00",
                    "2022-04-27T00:00:00",
                    "2022-04-28T00:00:00",
                    "2022-04-29T00:00:00",
                    "2022-04-30T00:00:00",
                    "2022-05-01T00:00:00",
                    "2022-05-02T00:00:00",
                    "2022-05-03T00:00:00",
                    "2022-05-04T00:00:00",
                    "2022-05-05T00:00:00",
                    "2022-05-06T00:00:00"
                  ],
                  "y": [
                    9077.610290166778,
                    8947.830558874492,
                    8539.77522837967,
                    8756.502937681065,
                    9152.679951767732,
                    9552.8717302819,
                    9772.36726867579,
                    9350.995367054202,
                    9176.972139009207,
                    8725.27333461594,
                    8987.357740348598,
                    9392.344222823576,
                    9782.147819286869,
                    9920.4139266544,
                    9548.210110197093,
                    9345.847486163942,
                    8936.094484267174,
                    9136.360719200595,
                    9572.780967473711,
                    9942.848175987405,
                    10136.776326091369,
                    9640.66019836466,
                    9385.45270059801,
                    8790.947396081065,
                    8949.540591119097,
                    9164.683225075927,
                    9451.634323978918,
                    9530.070112257525,
                    8993.326996138236,
                    8783.333215405064,
                    8205.893848361122,
                    8383.482302153096,
                    8661.856018938539,
                    8793.141356180433,
                    8905.107668332968,
                    8410.031854276282,
                    8181.857091456835,
                    7638.436790012044,
                    7799.0966323934645,
                    8011.569757772403,
                    8196.90494734357,
                    8258.765804859031,
                    7808.578837104163,
                    7573.4940590005135,
                    7087.681480106021,
                    7202.335077450638,
                    7465.692515872322,
                    7623.4477934443275,
                    7679.754965456516,
                    7269.038105986724,
                    7045.383231136194,
                    6615.433873381892,
                    6736.515482642409,
                    6941.345095395681,
                    7102.816517146933,
                    7178.929480464035,
                    6738.462494439953,
                    6498.730174698172,
                    6171.919356228313,
                    6296.641632322382,
                    6424.1495691177415,
                    6639.038878449186,
                    6724.634142397858
                  ]
                }
              ],
              "layout": {
                "height": 600,
                "showlegend": false,
                "template": {
                  "data": {
                    "bar": [
                      {
                        "error_x": {
                          "color": "#2a3f5f"
                        },
                        "error_y": {
                          "color": "#2a3f5f"
                        },
                        "marker": {
                          "line": {
                            "color": "#E5ECF6",
                            "width": 0.5
                          },
                          "pattern": {
                            "fillmode": "overlay",
                            "size": 10,
                            "solidity": 0.2
                          }
                        },
                        "type": "bar"
                      }
                    ],
                    "barpolar": [
                      {
                        "marker": {
                          "line": {
                            "color": "#E5ECF6",
                            "width": 0.5
                          },
                          "pattern": {
                            "fillmode": "overlay",
                            "size": 10,
                            "solidity": 0.2
                          }
                        },
                        "type": "barpolar"
                      }
                    ],
                    "carpet": [
                      {
                        "aaxis": {
                          "endlinecolor": "#2a3f5f",
                          "gridcolor": "white",
                          "linecolor": "white",
                          "minorgridcolor": "white",
                          "startlinecolor": "#2a3f5f"
                        },
                        "baxis": {
                          "endlinecolor": "#2a3f5f",
                          "gridcolor": "white",
                          "linecolor": "white",
                          "minorgridcolor": "white",
                          "startlinecolor": "#2a3f5f"
                        },
                        "type": "carpet"
                      }
                    ],
                    "choropleth": [
                      {
                        "colorbar": {
                          "outlinewidth": 0,
                          "ticks": ""
                        },
                        "type": "choropleth"
                      }
                    ],
                    "contour": [
                      {
                        "colorbar": {
                          "outlinewidth": 0,
                          "ticks": ""
                        },
                        "colorscale": [
                          [
                            0,
                            "#0d0887"
                          ],
                          [
                            0.1111111111111111,
                            "#46039f"
                          ],
                          [
                            0.2222222222222222,
                            "#7201a8"
                          ],
                          [
                            0.3333333333333333,
                            "#9c179e"
                          ],
                          [
                            0.4444444444444444,
                            "#bd3786"
                          ],
                          [
                            0.5555555555555556,
                            "#d8576b"
                          ],
                          [
                            0.6666666666666666,
                            "#ed7953"
                          ],
                          [
                            0.7777777777777778,
                            "#fb9f3a"
                          ],
                          [
                            0.8888888888888888,
                            "#fdca26"
                          ],
                          [
                            1,
                            "#f0f921"
                          ]
                        ],
                        "type": "contour"
                      }
                    ],
                    "contourcarpet": [
                      {
                        "colorbar": {
                          "outlinewidth": 0,
                          "ticks": ""
                        },
                        "type": "contourcarpet"
                      }
                    ],
                    "heatmap": [
                      {
                        "colorbar": {
                          "outlinewidth": 0,
                          "ticks": ""
                        },
                        "colorscale": [
                          [
                            0,
                            "#0d0887"
                          ],
                          [
                            0.1111111111111111,
                            "#46039f"
                          ],
                          [
                            0.2222222222222222,
                            "#7201a8"
                          ],
                          [
                            0.3333333333333333,
                            "#9c179e"
                          ],
                          [
                            0.4444444444444444,
                            "#bd3786"
                          ],
                          [
                            0.5555555555555556,
                            "#d8576b"
                          ],
                          [
                            0.6666666666666666,
                            "#ed7953"
                          ],
                          [
                            0.7777777777777778,
                            "#fb9f3a"
                          ],
                          [
                            0.8888888888888888,
                            "#fdca26"
                          ],
                          [
                            1,
                            "#f0f921"
                          ]
                        ],
                        "type": "heatmap"
                      }
                    ],
                    "heatmapgl": [
                      {
                        "colorbar": {
                          "outlinewidth": 0,
                          "ticks": ""
                        },
                        "colorscale": [
                          [
                            0,
                            "#0d0887"
                          ],
                          [
                            0.1111111111111111,
                            "#46039f"
                          ],
                          [
                            0.2222222222222222,
                            "#7201a8"
                          ],
                          [
                            0.3333333333333333,
                            "#9c179e"
                          ],
                          [
                            0.4444444444444444,
                            "#bd3786"
                          ],
                          [
                            0.5555555555555556,
                            "#d8576b"
                          ],
                          [
                            0.6666666666666666,
                            "#ed7953"
                          ],
                          [
                            0.7777777777777778,
                            "#fb9f3a"
                          ],
                          [
                            0.8888888888888888,
                            "#fdca26"
                          ],
                          [
                            1,
                            "#f0f921"
                          ]
                        ],
                        "type": "heatmapgl"
                      }
                    ],
                    "histogram": [
                      {
                        "marker": {
                          "pattern": {
                            "fillmode": "overlay",
                            "size": 10,
                            "solidity": 0.2
                          }
                        },
                        "type": "histogram"
                      }
                    ],
                    "histogram2d": [
                      {
                        "colorbar": {
                          "outlinewidth": 0,
                          "ticks": ""
                        },
                        "colorscale": [
                          [
                            0,
                            "#0d0887"
                          ],
                          [
                            0.1111111111111111,
                            "#46039f"
                          ],
                          [
                            0.2222222222222222,
                            "#7201a8"
                          ],
                          [
                            0.3333333333333333,
                            "#9c179e"
                          ],
                          [
                            0.4444444444444444,
                            "#bd3786"
                          ],
                          [
                            0.5555555555555556,
                            "#d8576b"
                          ],
                          [
                            0.6666666666666666,
                            "#ed7953"
                          ],
                          [
                            0.7777777777777778,
                            "#fb9f3a"
                          ],
                          [
                            0.8888888888888888,
                            "#fdca26"
                          ],
                          [
                            1,
                            "#f0f921"
                          ]
                        ],
                        "type": "histogram2d"
                      }
                    ],
                    "histogram2dcontour": [
                      {
                        "colorbar": {
                          "outlinewidth": 0,
                          "ticks": ""
                        },
                        "colorscale": [
                          [
                            0,
                            "#0d0887"
                          ],
                          [
                            0.1111111111111111,
                            "#46039f"
                          ],
                          [
                            0.2222222222222222,
                            "#7201a8"
                          ],
                          [
                            0.3333333333333333,
                            "#9c179e"
                          ],
                          [
                            0.4444444444444444,
                            "#bd3786"
                          ],
                          [
                            0.5555555555555556,
                            "#d8576b"
                          ],
                          [
                            0.6666666666666666,
                            "#ed7953"
                          ],
                          [
                            0.7777777777777778,
                            "#fb9f3a"
                          ],
                          [
                            0.8888888888888888,
                            "#fdca26"
                          ],
                          [
                            1,
                            "#f0f921"
                          ]
                        ],
                        "type": "histogram2dcontour"
                      }
                    ],
                    "mesh3d": [
                      {
                        "colorbar": {
                          "outlinewidth": 0,
                          "ticks": ""
                        },
                        "type": "mesh3d"
                      }
                    ],
                    "parcoords": [
                      {
                        "line": {
                          "colorbar": {
                            "outlinewidth": 0,
                            "ticks": ""
                          }
                        },
                        "type": "parcoords"
                      }
                    ],
                    "pie": [
                      {
                        "automargin": true,
                        "type": "pie"
                      }
                    ],
                    "scatter": [
                      {
                        "fillpattern": {
                          "fillmode": "overlay",
                          "size": 10,
                          "solidity": 0.2
                        },
                        "type": "scatter"
                      }
                    ],
                    "scatter3d": [
                      {
                        "line": {
                          "colorbar": {
                            "outlinewidth": 0,
                            "ticks": ""
                          }
                        },
                        "marker": {
                          "colorbar": {
                            "outlinewidth": 0,
                            "ticks": ""
                          }
                        },
                        "type": "scatter3d"
                      }
                    ],
                    "scattercarpet": [
                      {
                        "marker": {
                          "colorbar": {
                            "outlinewidth": 0,
                            "ticks": ""
                          }
                        },
                        "type": "scattercarpet"
                      }
                    ],
                    "scattergeo": [
                      {
                        "marker": {
                          "colorbar": {
                            "outlinewidth": 0,
                            "ticks": ""
                          }
                        },
                        "type": "scattergeo"
                      }
                    ],
                    "scattergl": [
                      {
                        "marker": {
                          "colorbar": {
                            "outlinewidth": 0,
                            "ticks": ""
                          }
                        },
                        "type": "scattergl"
                      }
                    ],
                    "scattermapbox": [
                      {
                        "marker": {
                          "colorbar": {
                            "outlinewidth": 0,
                            "ticks": ""
                          }
                        },
                        "type": "scattermapbox"
                      }
                    ],
                    "scatterpolar": [
                      {
                        "marker": {
                          "colorbar": {
                            "outlinewidth": 0,
                            "ticks": ""
                          }
                        },
                        "type": "scatterpolar"
                      }
                    ],
                    "scatterpolargl": [
                      {
                        "marker": {
                          "colorbar": {
                            "outlinewidth": 0,
                            "ticks": ""
                          }
                        },
                        "type": "scatterpolargl"
                      }
                    ],
                    "scatterternary": [
                      {
                        "marker": {
                          "colorbar": {
                            "outlinewidth": 0,
                            "ticks": ""
                          }
                        },
                        "type": "scatterternary"
                      }
                    ],
                    "surface": [
                      {
                        "colorbar": {
                          "outlinewidth": 0,
                          "ticks": ""
                        },
                        "colorscale": [
                          [
                            0,
                            "#0d0887"
                          ],
                          [
                            0.1111111111111111,
                            "#46039f"
                          ],
                          [
                            0.2222222222222222,
                            "#7201a8"
                          ],
                          [
                            0.3333333333333333,
                            "#9c179e"
                          ],
                          [
                            0.4444444444444444,
                            "#bd3786"
                          ],
                          [
                            0.5555555555555556,
                            "#d8576b"
                          ],
                          [
                            0.6666666666666666,
                            "#ed7953"
                          ],
                          [
                            0.7777777777777778,
                            "#fb9f3a"
                          ],
                          [
                            0.8888888888888888,
                            "#fdca26"
                          ],
                          [
                            1,
                            "#f0f921"
                          ]
                        ],
                        "type": "surface"
                      }
                    ],
                    "table": [
                      {
                        "cells": {
                          "fill": {
                            "color": "#EBF0F8"
                          },
                          "line": {
                            "color": "white"
                          }
                        },
                        "header": {
                          "fill": {
                            "color": "#C8D4E3"
                          },
                          "line": {
                            "color": "white"
                          }
                        },
                        "type": "table"
                      }
                    ]
                  },
                  "layout": {
                    "annotationdefaults": {
                      "arrowcolor": "#2a3f5f",
                      "arrowhead": 0,
                      "arrowwidth": 1
                    },
                    "autotypenumbers": "strict",
                    "coloraxis": {
                      "colorbar": {
                        "outlinewidth": 0,
                        "ticks": ""
                      }
                    },
                    "colorscale": {
                      "diverging": [
                        [
                          0,
                          "#8e0152"
                        ],
                        [
                          0.1,
                          "#c51b7d"
                        ],
                        [
                          0.2,
                          "#de77ae"
                        ],
                        [
                          0.3,
                          "#f1b6da"
                        ],
                        [
                          0.4,
                          "#fde0ef"
                        ],
                        [
                          0.5,
                          "#f7f7f7"
                        ],
                        [
                          0.6,
                          "#e6f5d0"
                        ],
                        [
                          0.7,
                          "#b8e186"
                        ],
                        [
                          0.8,
                          "#7fbc41"
                        ],
                        [
                          0.9,
                          "#4d9221"
                        ],
                        [
                          1,
                          "#276419"
                        ]
                      ],
                      "sequential": [
                        [
                          0,
                          "#0d0887"
                        ],
                        [
                          0.1111111111111111,
                          "#46039f"
                        ],
                        [
                          0.2222222222222222,
                          "#7201a8"
                        ],
                        [
                          0.3333333333333333,
                          "#9c179e"
                        ],
                        [
                          0.4444444444444444,
                          "#bd3786"
                        ],
                        [
                          0.5555555555555556,
                          "#d8576b"
                        ],
                        [
                          0.6666666666666666,
                          "#ed7953"
                        ],
                        [
                          0.7777777777777778,
                          "#fb9f3a"
                        ],
                        [
                          0.8888888888888888,
                          "#fdca26"
                        ],
                        [
                          1,
                          "#f0f921"
                        ]
                      ],
                      "sequentialminus": [
                        [
                          0,
                          "#0d0887"
                        ],
                        [
                          0.1111111111111111,
                          "#46039f"
                        ],
                        [
                          0.2222222222222222,
                          "#7201a8"
                        ],
                        [
                          0.3333333333333333,
                          "#9c179e"
                        ],
                        [
                          0.4444444444444444,
                          "#bd3786"
                        ],
                        [
                          0.5555555555555556,
                          "#d8576b"
                        ],
                        [
                          0.6666666666666666,
                          "#ed7953"
                        ],
                        [
                          0.7777777777777778,
                          "#fb9f3a"
                        ],
                        [
                          0.8888888888888888,
                          "#fdca26"
                        ],
                        [
                          1,
                          "#f0f921"
                        ]
                      ]
                    },
                    "colorway": [
                      "#636efa",
                      "#EF553B",
                      "#00cc96",
                      "#ab63fa",
                      "#FFA15A",
                      "#19d3f3",
                      "#FF6692",
                      "#B6E880",
                      "#FF97FF",
                      "#FECB52"
                    ],
                    "font": {
                      "color": "#2a3f5f"
                    },
                    "geo": {
                      "bgcolor": "white",
                      "lakecolor": "white",
                      "landcolor": "#E5ECF6",
                      "showlakes": true,
                      "showland": true,
                      "subunitcolor": "white"
                    },
                    "hoverlabel": {
                      "align": "left"
                    },
                    "hovermode": "closest",
                    "mapbox": {
                      "style": "light"
                    },
                    "paper_bgcolor": "white",
                    "plot_bgcolor": "#E5ECF6",
                    "polar": {
                      "angularaxis": {
                        "gridcolor": "white",
                        "linecolor": "white",
                        "ticks": ""
                      },
                      "bgcolor": "#E5ECF6",
                      "radialaxis": {
                        "gridcolor": "white",
                        "linecolor": "white",
                        "ticks": ""
                      }
                    },
                    "scene": {
                      "xaxis": {
                        "backgroundcolor": "#E5ECF6",
                        "gridcolor": "white",
                        "gridwidth": 2,
                        "linecolor": "white",
                        "showbackground": true,
                        "ticks": "",
                        "zerolinecolor": "white"
                      },
                      "yaxis": {
                        "backgroundcolor": "#E5ECF6",
                        "gridcolor": "white",
                        "gridwidth": 2,
                        "linecolor": "white",
                        "showbackground": true,
                        "ticks": "",
                        "zerolinecolor": "white"
                      },
                      "zaxis": {
                        "backgroundcolor": "#E5ECF6",
                        "gridcolor": "white",
                        "gridwidth": 2,
                        "linecolor": "white",
                        "showbackground": true,
                        "ticks": "",
                        "zerolinecolor": "white"
                      }
                    },
                    "shapedefaults": {
                      "line": {
                        "color": "#2a3f5f"
                      }
                    },
                    "ternary": {
                      "aaxis": {
                        "gridcolor": "white",
                        "linecolor": "white",
                        "ticks": ""
                      },
                      "baxis": {
                        "gridcolor": "white",
                        "linecolor": "white",
                        "ticks": ""
                      },
                      "bgcolor": "#E5ECF6",
                      "caxis": {
                        "gridcolor": "white",
                        "linecolor": "white",
                        "ticks": ""
                      }
                    },
                    "title": {
                      "x": 0.05
                    },
                    "xaxis": {
                      "automargin": true,
                      "gridcolor": "white",
                      "linecolor": "white",
                      "ticks": "",
                      "title": {
                        "standoff": 15
                      },
                      "zerolinecolor": "white",
                      "zerolinewidth": 2
                    },
                    "yaxis": {
                      "automargin": true,
                      "gridcolor": "white",
                      "linecolor": "white",
                      "ticks": "",
                      "title": {
                        "standoff": 15
                      },
                      "zerolinecolor": "white",
                      "zerolinewidth": 2
                    }
                  }
                },
                "width": 900,
                "xaxis": {
                  "rangeselector": {
                    "buttons": [
                      {
                        "count": 7,
                        "label": "1w",
                        "step": "day",
                        "stepmode": "backward"
                      },
                      {
                        "count": 1,
                        "label": "1m",
                        "step": "month",
                        "stepmode": "backward"
                      },
                      {
                        "count": 6,
                        "label": "6m",
                        "step": "month",
                        "stepmode": "backward"
                      },
                      {
                        "count": 1,
                        "label": "1y",
                        "step": "year",
                        "stepmode": "backward"
                      },
                      {
                        "step": "all"
                      }
                    ]
                  },
                  "rangeslider": {
                    "visible": true
                  },
                  "title": {
                    "text": "ds"
                  },
                  "type": "date"
                },
                "yaxis": {
                  "title": {
                    "text": "y"
                  }
                }
              }
            }
          },
          "metadata": {},
          "output_type": "display_data"
        }
      ],
      "source": [
        "plot_plotly(m, forecast)"
      ]
    },
    {
      "cell_type": "code",
      "execution_count": 16,
      "metadata": {
        "colab": {
          "base_uri": "https://localhost:8080/",
          "height": 417
        },
        "id": "achtj_i8f9lJ",
        "outputId": "68e18789-2e82-4aeb-c309-e98b682fdde0"
      },
      "outputs": [
        {
          "data": {
            "application/vnd.plotly.v1+json": {
              "config": {
                "plotlyServerURL": "https://plot.ly"
              },
              "data": [
                {
                  "line": {
                    "color": "#0072B2",
                    "width": 2
                  },
                  "mode": "lines",
                  "name": "trend",
                  "type": "scatter",
                  "x": [
                    "2022-03-05T00:00:00",
                    "2022-03-06T00:00:00",
                    "2022-03-07T00:00:00",
                    "2022-03-08T00:00:00",
                    "2022-03-09T00:00:00",
                    "2022-03-10T00:00:00",
                    "2022-03-11T00:00:00",
                    "2022-03-12T00:00:00",
                    "2022-03-13T00:00:00",
                    "2022-03-14T00:00:00",
                    "2022-03-15T00:00:00",
                    "2022-03-16T00:00:00",
                    "2022-03-17T00:00:00",
                    "2022-03-18T00:00:00",
                    "2022-03-19T00:00:00",
                    "2022-03-20T00:00:00",
                    "2022-03-21T00:00:00",
                    "2022-03-22T00:00:00",
                    "2022-03-23T00:00:00",
                    "2022-03-24T00:00:00",
                    "2022-03-25T00:00:00",
                    "2022-03-26T00:00:00",
                    "2022-03-27T00:00:00",
                    "2022-03-28T00:00:00",
                    "2022-03-29T00:00:00",
                    "2022-03-30T00:00:00",
                    "2022-03-31T00:00:00",
                    "2022-04-01T00:00:00",
                    "2022-04-02T00:00:00",
                    "2022-04-03T00:00:00",
                    "2022-04-04T00:00:00",
                    "2022-04-05T00:00:00",
                    "2022-04-06T00:00:00",
                    "2022-04-07T00:00:00",
                    "2022-04-08T00:00:00",
                    "2022-04-09T00:00:00",
                    "2022-04-10T00:00:00",
                    "2022-04-11T00:00:00",
                    "2022-04-12T00:00:00",
                    "2022-04-13T00:00:00",
                    "2022-04-14T00:00:00",
                    "2022-04-15T00:00:00",
                    "2022-04-16T00:00:00",
                    "2022-04-17T00:00:00",
                    "2022-04-18T00:00:00",
                    "2022-04-19T00:00:00",
                    "2022-04-20T00:00:00",
                    "2022-04-21T00:00:00",
                    "2022-04-22T00:00:00",
                    "2022-04-23T00:00:00",
                    "2022-04-24T00:00:00",
                    "2022-04-25T00:00:00",
                    "2022-04-26T00:00:00",
                    "2022-04-27T00:00:00",
                    "2022-04-28T00:00:00",
                    "2022-04-29T00:00:00",
                    "2022-04-30T00:00:00",
                    "2022-05-01T00:00:00",
                    "2022-05-02T00:00:00",
                    "2022-05-03T00:00:00",
                    "2022-05-04T00:00:00",
                    "2022-05-05T00:00:00",
                    "2022-05-06T00:00:00"
                  ],
                  "xaxis": "x",
                  "y": [
                    8402.661899693074,
                    8433.696038579794,
                    8464.730177488305,
                    8495.764316179126,
                    8526.798454974147,
                    8557.832594007876,
                    8588.866733144087,
                    8619.900872295148,
                    8650.935011721667,
                    8681.969150921606,
                    8713.003289969909,
                    8744.037428952446,
                    8775.071568077226,
                    8806.027200650662,
                    8836.970818745815,
                    8867.818028427968,
                    8898.496439634187,
                    8928.923835264814,
                    8959.233763810686,
                    8989.482094025861,
                    9019.580391908108,
                    8934.048355860381,
                    8848.399399003183,
                    8762.124322582697,
                    8675.272871732122,
                    8588.259645865872,
                    8501.21639816957,
                    8414.173150473267,
                    8327.129902776967,
                    8240.086655080666,
                    8153.043407384364,
                    8066.000159688063,
                    7978.956911991762,
                    7891.913664295461,
                    7804.870416599159,
                    7717.827168902858,
                    7630.783921206556,
                    7543.740673510256,
                    7456.697425813954,
                    7369.654178117652,
                    7282.610930421351,
                    7195.567682725051,
                    7108.524435028749,
                    7021.481187332447,
                    6934.437939636146,
                    6847.394691939846,
                    6760.3514442435435,
                    6673.308196547242,
                    6586.264948850941,
                    6499.221701154641,
                    6412.1784534583385,
                    6325.135205762037,
                    6238.091958065736,
                    6151.048710369435,
                    6064.0054626731335,
                    5976.962214976832,
                    5889.9189672805305,
                    5802.87571958423,
                    5715.8324718879285,
                    5628.789224191626,
                    5541.7459764953255,
                    5454.702728799025,
                    5367.6594811027235
                  ],
                  "yaxis": "y"
                },
                {
                  "line": {
                    "color": "rgba(0, 114, 178, 0.2)",
                    "width": 0
                  },
                  "mode": "lines",
                  "name": "trend_upper",
                  "type": "scatter",
                  "x": [
                    "2022-03-05T00:00:00",
                    "2022-03-06T00:00:00",
                    "2022-03-07T00:00:00",
                    "2022-03-08T00:00:00",
                    "2022-03-09T00:00:00",
                    "2022-03-10T00:00:00",
                    "2022-03-11T00:00:00",
                    "2022-03-12T00:00:00",
                    "2022-03-13T00:00:00",
                    "2022-03-14T00:00:00",
                    "2022-03-15T00:00:00",
                    "2022-03-16T00:00:00",
                    "2022-03-17T00:00:00",
                    "2022-03-18T00:00:00",
                    "2022-03-19T00:00:00",
                    "2022-03-20T00:00:00",
                    "2022-03-21T00:00:00",
                    "2022-03-22T00:00:00",
                    "2022-03-23T00:00:00",
                    "2022-03-24T00:00:00",
                    "2022-03-25T00:00:00",
                    "2022-03-26T00:00:00",
                    "2022-03-27T00:00:00",
                    "2022-03-28T00:00:00",
                    "2022-03-29T00:00:00",
                    "2022-03-30T00:00:00",
                    "2022-03-31T00:00:00",
                    "2022-04-01T00:00:00",
                    "2022-04-02T00:00:00",
                    "2022-04-03T00:00:00",
                    "2022-04-04T00:00:00",
                    "2022-04-05T00:00:00",
                    "2022-04-06T00:00:00",
                    "2022-04-07T00:00:00",
                    "2022-04-08T00:00:00",
                    "2022-04-09T00:00:00",
                    "2022-04-10T00:00:00",
                    "2022-04-11T00:00:00",
                    "2022-04-12T00:00:00",
                    "2022-04-13T00:00:00",
                    "2022-04-14T00:00:00",
                    "2022-04-15T00:00:00",
                    "2022-04-16T00:00:00",
                    "2022-04-17T00:00:00",
                    "2022-04-18T00:00:00",
                    "2022-04-19T00:00:00",
                    "2022-04-20T00:00:00",
                    "2022-04-21T00:00:00",
                    "2022-04-22T00:00:00",
                    "2022-04-23T00:00:00",
                    "2022-04-24T00:00:00",
                    "2022-04-25T00:00:00",
                    "2022-04-26T00:00:00",
                    "2022-04-27T00:00:00",
                    "2022-04-28T00:00:00",
                    "2022-04-29T00:00:00",
                    "2022-04-30T00:00:00",
                    "2022-05-01T00:00:00",
                    "2022-05-02T00:00:00",
                    "2022-05-03T00:00:00",
                    "2022-05-04T00:00:00",
                    "2022-05-05T00:00:00",
                    "2022-05-06T00:00:00"
                  ],
                  "xaxis": "x",
                  "y": [
                    8402.661899693074,
                    8433.696038579794,
                    8464.730177488305,
                    8495.764316179126,
                    8526.798454974147,
                    8557.832594007876,
                    8588.866733144087,
                    8619.900872295148,
                    8650.935011721667,
                    8681.969150921606,
                    8713.003289969909,
                    8744.037428952446,
                    8775.071568077226,
                    8806.027200650662,
                    8836.970818745815,
                    8867.818028427968,
                    8898.496439634187,
                    8928.923835264814,
                    8959.233763810686,
                    8989.482094025861,
                    9019.580391908108,
                    8934.048355860381,
                    8848.399399003183,
                    8762.124322582697,
                    8675.272871732122,
                    8588.259645865872,
                    8501.21639816957,
                    8414.173150473267,
                    8327.129902776967,
                    8240.086655080666,
                    8153.043407384364,
                    8066.000159688063,
                    7978.956911991762,
                    7894.826938749223,
                    7815.825871600654,
                    7739.563979364343,
                    7663.670549164246,
                    7588.905113535304,
                    7519.795228527572,
                    7450.047177098861,
                    7382.75330627191,
                    7316.271279750424,
                    7252.601376872912,
                    7184.546335157096,
                    7120.5543994716445,
                    7060.845814387916,
                    6996.830379873113,
                    6933.367862490356,
                    6875.360823156956,
                    6810.592497712639,
                    6751.319153322522,
                    6695.213752048901,
                    6642.1741728406705,
                    6579.99800598115,
                    6532.946737371692,
                    6477.402770303262,
                    6424.748232680502,
                    6380.448294724549,
                    6328.485007284687,
                    6283.876988365037,
                    6236.110223583529,
                    6179.503718274128,
                    6132.089849724928
                  ],
                  "yaxis": "y"
                },
                {
                  "fill": "tonexty",
                  "fillcolor": "rgba(0, 114, 178, 0.2)",
                  "line": {
                    "color": "rgba(0, 114, 178, 0.2)",
                    "width": 0
                  },
                  "mode": "lines",
                  "name": "trend_lower",
                  "type": "scatter",
                  "x": [
                    "2022-03-05T00:00:00",
                    "2022-03-06T00:00:00",
                    "2022-03-07T00:00:00",
                    "2022-03-08T00:00:00",
                    "2022-03-09T00:00:00",
                    "2022-03-10T00:00:00",
                    "2022-03-11T00:00:00",
                    "2022-03-12T00:00:00",
                    "2022-03-13T00:00:00",
                    "2022-03-14T00:00:00",
                    "2022-03-15T00:00:00",
                    "2022-03-16T00:00:00",
                    "2022-03-17T00:00:00",
                    "2022-03-18T00:00:00",
                    "2022-03-19T00:00:00",
                    "2022-03-20T00:00:00",
                    "2022-03-21T00:00:00",
                    "2022-03-22T00:00:00",
                    "2022-03-23T00:00:00",
                    "2022-03-24T00:00:00",
                    "2022-03-25T00:00:00",
                    "2022-03-26T00:00:00",
                    "2022-03-27T00:00:00",
                    "2022-03-28T00:00:00",
                    "2022-03-29T00:00:00",
                    "2022-03-30T00:00:00",
                    "2022-03-31T00:00:00",
                    "2022-04-01T00:00:00",
                    "2022-04-02T00:00:00",
                    "2022-04-03T00:00:00",
                    "2022-04-04T00:00:00",
                    "2022-04-05T00:00:00",
                    "2022-04-06T00:00:00",
                    "2022-04-07T00:00:00",
                    "2022-04-08T00:00:00",
                    "2022-04-09T00:00:00",
                    "2022-04-10T00:00:00",
                    "2022-04-11T00:00:00",
                    "2022-04-12T00:00:00",
                    "2022-04-13T00:00:00",
                    "2022-04-14T00:00:00",
                    "2022-04-15T00:00:00",
                    "2022-04-16T00:00:00",
                    "2022-04-17T00:00:00",
                    "2022-04-18T00:00:00",
                    "2022-04-19T00:00:00",
                    "2022-04-20T00:00:00",
                    "2022-04-21T00:00:00",
                    "2022-04-22T00:00:00",
                    "2022-04-23T00:00:00",
                    "2022-04-24T00:00:00",
                    "2022-04-25T00:00:00",
                    "2022-04-26T00:00:00",
                    "2022-04-27T00:00:00",
                    "2022-04-28T00:00:00",
                    "2022-04-29T00:00:00",
                    "2022-04-30T00:00:00",
                    "2022-05-01T00:00:00",
                    "2022-05-02T00:00:00",
                    "2022-05-03T00:00:00",
                    "2022-05-04T00:00:00",
                    "2022-05-05T00:00:00",
                    "2022-05-06T00:00:00"
                  ],
                  "xaxis": "x",
                  "y": [
                    8402.661899693074,
                    8433.696038579794,
                    8464.730177488305,
                    8495.764316179126,
                    8526.798454974147,
                    8557.832594007876,
                    8588.866733144087,
                    8619.900872295148,
                    8650.935011721667,
                    8681.969150921606,
                    8713.003289969909,
                    8744.037428952446,
                    8775.071568077226,
                    8806.027200650662,
                    8836.970818745815,
                    8867.818028427968,
                    8898.496439634187,
                    8928.923835264814,
                    8959.233763810686,
                    8989.482094025861,
                    9019.580391908108,
                    8934.048355860381,
                    8848.399399003183,
                    8762.124322582697,
                    8675.272871732122,
                    8588.259645865872,
                    8501.21639816957,
                    8414.173150473267,
                    8327.129902776967,
                    8240.086655080666,
                    8153.043407384364,
                    8066.000159688063,
                    7978.956911991762,
                    7888.634223740427,
                    7793.294153439094,
                    7696.389192200317,
                    7599.6194598670045,
                    7498.812336866351,
                    7396.882737771642,
                    7293.652507851233,
                    7193.32010094086,
                    7089.099536891813,
                    6980.4570147557815,
                    6869.910298229206,
                    6758.071729944015,
                    6646.258932841815,
                    6537.774498814659,
                    6425.185809950807,
                    6317.443202185675,
                    6206.828366037871,
                    6093.261333630763,
                    5982.830857645481,
                    5860.744088931727,
                    5743.499835278031,
                    5624.079689874445,
                    5506.326554419496,
                    5390.640600740503,
                    5273.901832908094,
                    5150.924167408578,
                    5021.198816927604,
                    4902.693985058882,
                    4780.108746964477,
                    4650.5750989180115
                  ],
                  "yaxis": "y"
                },
                {
                  "line": {
                    "color": "#0072B2",
                    "width": 2
                  },
                  "mode": "lines",
                  "name": "weekly",
                  "type": "scatter",
                  "x": [
                    "2017-01-01T00:00:00",
                    "2017-01-02T00:00:00",
                    "2017-01-03T00:00:00",
                    "2017-01-04T00:00:00",
                    "2017-01-05T00:00:00",
                    "2017-01-06T00:00:00",
                    "2017-01-07T00:00:00"
                  ],
                  "xaxis": "x2",
                  "y": [
                    -0.009464893634133605,
                    -0.06454520647705471,
                    -0.03881140294919082,
                    0.001955263729706189,
                    0.04058426484752343,
                    0.06120638018029157,
                    0.009075594303045947
                  ],
                  "yaxis": "y2"
                }
              ],
              "layout": {
                "height": 400,
                "showlegend": false,
                "template": {
                  "data": {
                    "bar": [
                      {
                        "error_x": {
                          "color": "#2a3f5f"
                        },
                        "error_y": {
                          "color": "#2a3f5f"
                        },
                        "marker": {
                          "line": {
                            "color": "#E5ECF6",
                            "width": 0.5
                          },
                          "pattern": {
                            "fillmode": "overlay",
                            "size": 10,
                            "solidity": 0.2
                          }
                        },
                        "type": "bar"
                      }
                    ],
                    "barpolar": [
                      {
                        "marker": {
                          "line": {
                            "color": "#E5ECF6",
                            "width": 0.5
                          },
                          "pattern": {
                            "fillmode": "overlay",
                            "size": 10,
                            "solidity": 0.2
                          }
                        },
                        "type": "barpolar"
                      }
                    ],
                    "carpet": [
                      {
                        "aaxis": {
                          "endlinecolor": "#2a3f5f",
                          "gridcolor": "white",
                          "linecolor": "white",
                          "minorgridcolor": "white",
                          "startlinecolor": "#2a3f5f"
                        },
                        "baxis": {
                          "endlinecolor": "#2a3f5f",
                          "gridcolor": "white",
                          "linecolor": "white",
                          "minorgridcolor": "white",
                          "startlinecolor": "#2a3f5f"
                        },
                        "type": "carpet"
                      }
                    ],
                    "choropleth": [
                      {
                        "colorbar": {
                          "outlinewidth": 0,
                          "ticks": ""
                        },
                        "type": "choropleth"
                      }
                    ],
                    "contour": [
                      {
                        "colorbar": {
                          "outlinewidth": 0,
                          "ticks": ""
                        },
                        "colorscale": [
                          [
                            0,
                            "#0d0887"
                          ],
                          [
                            0.1111111111111111,
                            "#46039f"
                          ],
                          [
                            0.2222222222222222,
                            "#7201a8"
                          ],
                          [
                            0.3333333333333333,
                            "#9c179e"
                          ],
                          [
                            0.4444444444444444,
                            "#bd3786"
                          ],
                          [
                            0.5555555555555556,
                            "#d8576b"
                          ],
                          [
                            0.6666666666666666,
                            "#ed7953"
                          ],
                          [
                            0.7777777777777778,
                            "#fb9f3a"
                          ],
                          [
                            0.8888888888888888,
                            "#fdca26"
                          ],
                          [
                            1,
                            "#f0f921"
                          ]
                        ],
                        "type": "contour"
                      }
                    ],
                    "contourcarpet": [
                      {
                        "colorbar": {
                          "outlinewidth": 0,
                          "ticks": ""
                        },
                        "type": "contourcarpet"
                      }
                    ],
                    "heatmap": [
                      {
                        "colorbar": {
                          "outlinewidth": 0,
                          "ticks": ""
                        },
                        "colorscale": [
                          [
                            0,
                            "#0d0887"
                          ],
                          [
                            0.1111111111111111,
                            "#46039f"
                          ],
                          [
                            0.2222222222222222,
                            "#7201a8"
                          ],
                          [
                            0.3333333333333333,
                            "#9c179e"
                          ],
                          [
                            0.4444444444444444,
                            "#bd3786"
                          ],
                          [
                            0.5555555555555556,
                            "#d8576b"
                          ],
                          [
                            0.6666666666666666,
                            "#ed7953"
                          ],
                          [
                            0.7777777777777778,
                            "#fb9f3a"
                          ],
                          [
                            0.8888888888888888,
                            "#fdca26"
                          ],
                          [
                            1,
                            "#f0f921"
                          ]
                        ],
                        "type": "heatmap"
                      }
                    ],
                    "heatmapgl": [
                      {
                        "colorbar": {
                          "outlinewidth": 0,
                          "ticks": ""
                        },
                        "colorscale": [
                          [
                            0,
                            "#0d0887"
                          ],
                          [
                            0.1111111111111111,
                            "#46039f"
                          ],
                          [
                            0.2222222222222222,
                            "#7201a8"
                          ],
                          [
                            0.3333333333333333,
                            "#9c179e"
                          ],
                          [
                            0.4444444444444444,
                            "#bd3786"
                          ],
                          [
                            0.5555555555555556,
                            "#d8576b"
                          ],
                          [
                            0.6666666666666666,
                            "#ed7953"
                          ],
                          [
                            0.7777777777777778,
                            "#fb9f3a"
                          ],
                          [
                            0.8888888888888888,
                            "#fdca26"
                          ],
                          [
                            1,
                            "#f0f921"
                          ]
                        ],
                        "type": "heatmapgl"
                      }
                    ],
                    "histogram": [
                      {
                        "marker": {
                          "pattern": {
                            "fillmode": "overlay",
                            "size": 10,
                            "solidity": 0.2
                          }
                        },
                        "type": "histogram"
                      }
                    ],
                    "histogram2d": [
                      {
                        "colorbar": {
                          "outlinewidth": 0,
                          "ticks": ""
                        },
                        "colorscale": [
                          [
                            0,
                            "#0d0887"
                          ],
                          [
                            0.1111111111111111,
                            "#46039f"
                          ],
                          [
                            0.2222222222222222,
                            "#7201a8"
                          ],
                          [
                            0.3333333333333333,
                            "#9c179e"
                          ],
                          [
                            0.4444444444444444,
                            "#bd3786"
                          ],
                          [
                            0.5555555555555556,
                            "#d8576b"
                          ],
                          [
                            0.6666666666666666,
                            "#ed7953"
                          ],
                          [
                            0.7777777777777778,
                            "#fb9f3a"
                          ],
                          [
                            0.8888888888888888,
                            "#fdca26"
                          ],
                          [
                            1,
                            "#f0f921"
                          ]
                        ],
                        "type": "histogram2d"
                      }
                    ],
                    "histogram2dcontour": [
                      {
                        "colorbar": {
                          "outlinewidth": 0,
                          "ticks": ""
                        },
                        "colorscale": [
                          [
                            0,
                            "#0d0887"
                          ],
                          [
                            0.1111111111111111,
                            "#46039f"
                          ],
                          [
                            0.2222222222222222,
                            "#7201a8"
                          ],
                          [
                            0.3333333333333333,
                            "#9c179e"
                          ],
                          [
                            0.4444444444444444,
                            "#bd3786"
                          ],
                          [
                            0.5555555555555556,
                            "#d8576b"
                          ],
                          [
                            0.6666666666666666,
                            "#ed7953"
                          ],
                          [
                            0.7777777777777778,
                            "#fb9f3a"
                          ],
                          [
                            0.8888888888888888,
                            "#fdca26"
                          ],
                          [
                            1,
                            "#f0f921"
                          ]
                        ],
                        "type": "histogram2dcontour"
                      }
                    ],
                    "mesh3d": [
                      {
                        "colorbar": {
                          "outlinewidth": 0,
                          "ticks": ""
                        },
                        "type": "mesh3d"
                      }
                    ],
                    "parcoords": [
                      {
                        "line": {
                          "colorbar": {
                            "outlinewidth": 0,
                            "ticks": ""
                          }
                        },
                        "type": "parcoords"
                      }
                    ],
                    "pie": [
                      {
                        "automargin": true,
                        "type": "pie"
                      }
                    ],
                    "scatter": [
                      {
                        "fillpattern": {
                          "fillmode": "overlay",
                          "size": 10,
                          "solidity": 0.2
                        },
                        "type": "scatter"
                      }
                    ],
                    "scatter3d": [
                      {
                        "line": {
                          "colorbar": {
                            "outlinewidth": 0,
                            "ticks": ""
                          }
                        },
                        "marker": {
                          "colorbar": {
                            "outlinewidth": 0,
                            "ticks": ""
                          }
                        },
                        "type": "scatter3d"
                      }
                    ],
                    "scattercarpet": [
                      {
                        "marker": {
                          "colorbar": {
                            "outlinewidth": 0,
                            "ticks": ""
                          }
                        },
                        "type": "scattercarpet"
                      }
                    ],
                    "scattergeo": [
                      {
                        "marker": {
                          "colorbar": {
                            "outlinewidth": 0,
                            "ticks": ""
                          }
                        },
                        "type": "scattergeo"
                      }
                    ],
                    "scattergl": [
                      {
                        "marker": {
                          "colorbar": {
                            "outlinewidth": 0,
                            "ticks": ""
                          }
                        },
                        "type": "scattergl"
                      }
                    ],
                    "scattermapbox": [
                      {
                        "marker": {
                          "colorbar": {
                            "outlinewidth": 0,
                            "ticks": ""
                          }
                        },
                        "type": "scattermapbox"
                      }
                    ],
                    "scatterpolar": [
                      {
                        "marker": {
                          "colorbar": {
                            "outlinewidth": 0,
                            "ticks": ""
                          }
                        },
                        "type": "scatterpolar"
                      }
                    ],
                    "scatterpolargl": [
                      {
                        "marker": {
                          "colorbar": {
                            "outlinewidth": 0,
                            "ticks": ""
                          }
                        },
                        "type": "scatterpolargl"
                      }
                    ],
                    "scatterternary": [
                      {
                        "marker": {
                          "colorbar": {
                            "outlinewidth": 0,
                            "ticks": ""
                          }
                        },
                        "type": "scatterternary"
                      }
                    ],
                    "surface": [
                      {
                        "colorbar": {
                          "outlinewidth": 0,
                          "ticks": ""
                        },
                        "colorscale": [
                          [
                            0,
                            "#0d0887"
                          ],
                          [
                            0.1111111111111111,
                            "#46039f"
                          ],
                          [
                            0.2222222222222222,
                            "#7201a8"
                          ],
                          [
                            0.3333333333333333,
                            "#9c179e"
                          ],
                          [
                            0.4444444444444444,
                            "#bd3786"
                          ],
                          [
                            0.5555555555555556,
                            "#d8576b"
                          ],
                          [
                            0.6666666666666666,
                            "#ed7953"
                          ],
                          [
                            0.7777777777777778,
                            "#fb9f3a"
                          ],
                          [
                            0.8888888888888888,
                            "#fdca26"
                          ],
                          [
                            1,
                            "#f0f921"
                          ]
                        ],
                        "type": "surface"
                      }
                    ],
                    "table": [
                      {
                        "cells": {
                          "fill": {
                            "color": "#EBF0F8"
                          },
                          "line": {
                            "color": "white"
                          }
                        },
                        "header": {
                          "fill": {
                            "color": "#C8D4E3"
                          },
                          "line": {
                            "color": "white"
                          }
                        },
                        "type": "table"
                      }
                    ]
                  },
                  "layout": {
                    "annotationdefaults": {
                      "arrowcolor": "#2a3f5f",
                      "arrowhead": 0,
                      "arrowwidth": 1
                    },
                    "autotypenumbers": "strict",
                    "coloraxis": {
                      "colorbar": {
                        "outlinewidth": 0,
                        "ticks": ""
                      }
                    },
                    "colorscale": {
                      "diverging": [
                        [
                          0,
                          "#8e0152"
                        ],
                        [
                          0.1,
                          "#c51b7d"
                        ],
                        [
                          0.2,
                          "#de77ae"
                        ],
                        [
                          0.3,
                          "#f1b6da"
                        ],
                        [
                          0.4,
                          "#fde0ef"
                        ],
                        [
                          0.5,
                          "#f7f7f7"
                        ],
                        [
                          0.6,
                          "#e6f5d0"
                        ],
                        [
                          0.7,
                          "#b8e186"
                        ],
                        [
                          0.8,
                          "#7fbc41"
                        ],
                        [
                          0.9,
                          "#4d9221"
                        ],
                        [
                          1,
                          "#276419"
                        ]
                      ],
                      "sequential": [
                        [
                          0,
                          "#0d0887"
                        ],
                        [
                          0.1111111111111111,
                          "#46039f"
                        ],
                        [
                          0.2222222222222222,
                          "#7201a8"
                        ],
                        [
                          0.3333333333333333,
                          "#9c179e"
                        ],
                        [
                          0.4444444444444444,
                          "#bd3786"
                        ],
                        [
                          0.5555555555555556,
                          "#d8576b"
                        ],
                        [
                          0.6666666666666666,
                          "#ed7953"
                        ],
                        [
                          0.7777777777777778,
                          "#fb9f3a"
                        ],
                        [
                          0.8888888888888888,
                          "#fdca26"
                        ],
                        [
                          1,
                          "#f0f921"
                        ]
                      ],
                      "sequentialminus": [
                        [
                          0,
                          "#0d0887"
                        ],
                        [
                          0.1111111111111111,
                          "#46039f"
                        ],
                        [
                          0.2222222222222222,
                          "#7201a8"
                        ],
                        [
                          0.3333333333333333,
                          "#9c179e"
                        ],
                        [
                          0.4444444444444444,
                          "#bd3786"
                        ],
                        [
                          0.5555555555555556,
                          "#d8576b"
                        ],
                        [
                          0.6666666666666666,
                          "#ed7953"
                        ],
                        [
                          0.7777777777777778,
                          "#fb9f3a"
                        ],
                        [
                          0.8888888888888888,
                          "#fdca26"
                        ],
                        [
                          1,
                          "#f0f921"
                        ]
                      ]
                    },
                    "colorway": [
                      "#636efa",
                      "#EF553B",
                      "#00cc96",
                      "#ab63fa",
                      "#FFA15A",
                      "#19d3f3",
                      "#FF6692",
                      "#B6E880",
                      "#FF97FF",
                      "#FECB52"
                    ],
                    "font": {
                      "color": "#2a3f5f"
                    },
                    "geo": {
                      "bgcolor": "white",
                      "lakecolor": "white",
                      "landcolor": "#E5ECF6",
                      "showlakes": true,
                      "showland": true,
                      "subunitcolor": "white"
                    },
                    "hoverlabel": {
                      "align": "left"
                    },
                    "hovermode": "closest",
                    "mapbox": {
                      "style": "light"
                    },
                    "paper_bgcolor": "white",
                    "plot_bgcolor": "#E5ECF6",
                    "polar": {
                      "angularaxis": {
                        "gridcolor": "white",
                        "linecolor": "white",
                        "ticks": ""
                      },
                      "bgcolor": "#E5ECF6",
                      "radialaxis": {
                        "gridcolor": "white",
                        "linecolor": "white",
                        "ticks": ""
                      }
                    },
                    "scene": {
                      "xaxis": {
                        "backgroundcolor": "#E5ECF6",
                        "gridcolor": "white",
                        "gridwidth": 2,
                        "linecolor": "white",
                        "showbackground": true,
                        "ticks": "",
                        "zerolinecolor": "white"
                      },
                      "yaxis": {
                        "backgroundcolor": "#E5ECF6",
                        "gridcolor": "white",
                        "gridwidth": 2,
                        "linecolor": "white",
                        "showbackground": true,
                        "ticks": "",
                        "zerolinecolor": "white"
                      },
                      "zaxis": {
                        "backgroundcolor": "#E5ECF6",
                        "gridcolor": "white",
                        "gridwidth": 2,
                        "linecolor": "white",
                        "showbackground": true,
                        "ticks": "",
                        "zerolinecolor": "white"
                      }
                    },
                    "shapedefaults": {
                      "line": {
                        "color": "#2a3f5f"
                      }
                    },
                    "ternary": {
                      "aaxis": {
                        "gridcolor": "white",
                        "linecolor": "white",
                        "ticks": ""
                      },
                      "baxis": {
                        "gridcolor": "white",
                        "linecolor": "white",
                        "ticks": ""
                      },
                      "bgcolor": "#E5ECF6",
                      "caxis": {
                        "gridcolor": "white",
                        "linecolor": "white",
                        "ticks": ""
                      }
                    },
                    "title": {
                      "x": 0.05
                    },
                    "xaxis": {
                      "automargin": true,
                      "gridcolor": "white",
                      "linecolor": "white",
                      "ticks": "",
                      "title": {
                        "standoff": 15
                      },
                      "zerolinecolor": "white",
                      "zerolinewidth": 2
                    },
                    "yaxis": {
                      "automargin": true,
                      "gridcolor": "white",
                      "linecolor": "white",
                      "ticks": "",
                      "title": {
                        "standoff": 15
                      },
                      "zerolinecolor": "white",
                      "zerolinewidth": 2
                    }
                  }
                },
                "width": 900,
                "xaxis": {
                  "anchor": "y",
                  "domain": [
                    0,
                    1
                  ],
                  "range": [
                    "2022-03-01T21:36:00",
                    "2022-05-09T02:24:00"
                  ],
                  "type": "date"
                },
                "xaxis2": {
                  "anchor": "y2",
                  "domain": [
                    0,
                    1
                  ],
                  "range": [
                    "2016-12-31T16:48:00",
                    "2017-01-07T07:12:00"
                  ],
                  "tickformat": "%A",
                  "type": "date"
                },
                "yaxis": {
                  "anchor": "x",
                  "domain": [
                    0.575,
                    1
                  ],
                  "rangemode": "normal",
                  "title": {
                    "text": "trend"
                  },
                  "zerolinecolor": "#AAA"
                },
                "yaxis2": {
                  "anchor": "x2",
                  "domain": [
                    0,
                    0.425
                  ],
                  "hoverformat": ".2%",
                  "tickformat": "%",
                  "title": {
                    "text": "weekly"
                  },
                  "zerolinecolor": "#AAA"
                }
              }
            }
          },
          "metadata": {},
          "output_type": "display_data"
        }
      ],
      "source": [
        "plot_components_plotly(m, forecast)"
      ]
    },
    {
      "cell_type": "code",
      "execution_count": null,
      "metadata": {
        "id": "ucGms0Bzt1AS"
      },
      "outputs": [],
      "source": []
    }
  ],
  "metadata": {
    "colab": {
      "name": "prophet-forecasting",
      "provenance": []
    },
    "kernelspec": {
      "display_name": "Python 3",
      "name": "python3"
    },
    "language_info": {
      "codemirror_mode": {
        "name": "ipython",
        "version": 3
      },
      "file_extension": ".py",
      "mimetype": "text/x-python",
      "name": "python",
      "nbconvert_exporter": "python",
      "pygments_lexer": "ipython3",
      "version": "3.9.7"
    }
  },
  "nbformat": 4,
  "nbformat_minor": 0
}
